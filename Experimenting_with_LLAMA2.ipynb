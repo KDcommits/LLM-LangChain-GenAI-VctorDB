{
  "cells": [
    {
      "cell_type": "code",
      "execution_count": 4,
      "metadata": {
        "id": "_REHHmLr0njj"
      },
      "outputs": [],
      "source": [
        "!pip install langchain -q\n",
        "!pip install sentence_transformers -q\n",
        "!pip install huggingface_hub -q\n",
        "!pip install pypdf -q\n",
        "!pip install faiss-cpu -q\n",
        "!pip install ctransformers -q"
      ]
    },
    {
      "cell_type": "code",
      "execution_count": 13,
      "metadata": {
        "id": "g9PqFzGzyrwX"
      },
      "outputs": [],
      "source": [
        "import os\n",
        "import re\n",
        "import time\n",
        "import torch\n",
        "import pandas as pd\n",
        "from langchain import PromptTemplate\n",
        "from langchain.llms import  CTransformers\n",
        "from langchain.chains import RetrievalQA\n",
        "from langchain.text_splitter import RecursiveCharacterTextSplitter\n",
        "from langchain.document_loaders import PyPDFLoader, DirectoryLoader\n",
        "from langchain.document_loaders.csv_loader import CSVLoader\n",
        "from langchain.embeddings import HuggingFaceEmbeddings\n",
        "from sentence_transformers import SentenceTransformer\n",
        "from langchain.chains.question_answering import load_qa_chain\n",
        "from langchain.callbacks.manager import CallbackManager\n",
        "from langchain.callbacks.streaming_stdout import StreamingStdOutCallbackHandler\n",
        "from langchain.vectorstores import FAISS\n",
        "from huggingface_hub import hf_hub_download\n"
      ]
    },
    {
      "cell_type": "code",
      "source": [
        "### Mount to g-drive (Sign in required for the mount)\n",
        "from google.colab import drive\n",
        "drive.mount(\"/content/gdrive\", force_remount=True)"
      ],
      "metadata": {
        "colab": {
          "base_uri": "https://localhost:8080/"
        },
        "id": "kyYxQjPxwIkD",
        "outputId": "bd131460-b583-4929-c3c2-76d3ad4e2b8c"
      },
      "execution_count": 6,
      "outputs": [
        {
          "output_type": "stream",
          "name": "stdout",
          "text": [
            "Mounted at /content/gdrive\n"
          ]
        }
      ]
    },
    {
      "cell_type": "code",
      "execution_count": 7,
      "metadata": {
        "id": "EORd2Mk00KtA"
      },
      "outputs": [],
      "source": [
        "# model_name_or_path = \"TheBloke/Llama-2-13B-chat-GGML\"\n",
        "# model_basename = \"llama-2-13b-chat.ggmlv3.q5_1.bin\"\n",
        "# local_dir = \"/content/gdrive/MyDrive/Python_DA_DS_ML/Gen AI/LLM & Langchain/LLAMA2_Model\"\n",
        "# model_path = hf_hub_download(repo_id=model_name_or_path, filename=model_basename, local_dir = local_dir)"
      ]
    },
    {
      "cell_type": "code",
      "execution_count": 24,
      "metadata": {
        "colab": {
          "base_uri": "https://localhost:8080/",
          "height": 253
        },
        "id": "dVn8U8KprQsq",
        "outputId": "ac6132f1-9a7d-467f-cbb8-6608098db3e9"
      },
      "outputs": [
        {
          "output_type": "execute_result",
          "data": {
            "text/plain": [
              "    Invoice ID Branch       City Customer type  Gender  \\\n",
              "0  750-67-8428      A     Yangon        Member  Female   \n",
              "1  226-31-3081      C  Naypyitaw        Normal  Female   \n",
              "2  631-41-3108      A     Yangon        Normal    Male   \n",
              "\n",
              "             Product line  Unit price  Quantity   Tax 5%     Total      Date  \\\n",
              "0       Health and beauty       74.69         7  26.1415  548.9715  1/5/2019   \n",
              "1  Electronic accessories       15.28         5   3.8200   80.2200  3/8/2019   \n",
              "2      Home and lifestyle       46.33         7  16.2155  340.5255  3/3/2019   \n",
              "\n",
              "    Time      Payment    cogs  gross margin percentage  gross income  Rating  \n",
              "0  13:08      Ewallet  522.83                 4.761905       26.1415     9.1  \n",
              "1  10:29         Cash   76.40                 4.761905        3.8200     9.6  \n",
              "2  13:23  Credit card  324.31                 4.761905       16.2155     7.4  "
            ],
            "text/html": [
              "\n",
              "\n",
              "  <div id=\"df-6b29e84f-ccfe-4bfb-ad5b-e53b5fa382a1\">\n",
              "    <div class=\"colab-df-container\">\n",
              "      <div>\n",
              "<style scoped>\n",
              "    .dataframe tbody tr th:only-of-type {\n",
              "        vertical-align: middle;\n",
              "    }\n",
              "\n",
              "    .dataframe tbody tr th {\n",
              "        vertical-align: top;\n",
              "    }\n",
              "\n",
              "    .dataframe thead th {\n",
              "        text-align: right;\n",
              "    }\n",
              "</style>\n",
              "<table border=\"1\" class=\"dataframe\">\n",
              "  <thead>\n",
              "    <tr style=\"text-align: right;\">\n",
              "      <th></th>\n",
              "      <th>Invoice ID</th>\n",
              "      <th>Branch</th>\n",
              "      <th>City</th>\n",
              "      <th>Customer type</th>\n",
              "      <th>Gender</th>\n",
              "      <th>Product line</th>\n",
              "      <th>Unit price</th>\n",
              "      <th>Quantity</th>\n",
              "      <th>Tax 5%</th>\n",
              "      <th>Total</th>\n",
              "      <th>Date</th>\n",
              "      <th>Time</th>\n",
              "      <th>Payment</th>\n",
              "      <th>cogs</th>\n",
              "      <th>gross margin percentage</th>\n",
              "      <th>gross income</th>\n",
              "      <th>Rating</th>\n",
              "    </tr>\n",
              "  </thead>\n",
              "  <tbody>\n",
              "    <tr>\n",
              "      <th>0</th>\n",
              "      <td>750-67-8428</td>\n",
              "      <td>A</td>\n",
              "      <td>Yangon</td>\n",
              "      <td>Member</td>\n",
              "      <td>Female</td>\n",
              "      <td>Health and beauty</td>\n",
              "      <td>74.69</td>\n",
              "      <td>7</td>\n",
              "      <td>26.1415</td>\n",
              "      <td>548.9715</td>\n",
              "      <td>1/5/2019</td>\n",
              "      <td>13:08</td>\n",
              "      <td>Ewallet</td>\n",
              "      <td>522.83</td>\n",
              "      <td>4.761905</td>\n",
              "      <td>26.1415</td>\n",
              "      <td>9.1</td>\n",
              "    </tr>\n",
              "    <tr>\n",
              "      <th>1</th>\n",
              "      <td>226-31-3081</td>\n",
              "      <td>C</td>\n",
              "      <td>Naypyitaw</td>\n",
              "      <td>Normal</td>\n",
              "      <td>Female</td>\n",
              "      <td>Electronic accessories</td>\n",
              "      <td>15.28</td>\n",
              "      <td>5</td>\n",
              "      <td>3.8200</td>\n",
              "      <td>80.2200</td>\n",
              "      <td>3/8/2019</td>\n",
              "      <td>10:29</td>\n",
              "      <td>Cash</td>\n",
              "      <td>76.40</td>\n",
              "      <td>4.761905</td>\n",
              "      <td>3.8200</td>\n",
              "      <td>9.6</td>\n",
              "    </tr>\n",
              "    <tr>\n",
              "      <th>2</th>\n",
              "      <td>631-41-3108</td>\n",
              "      <td>A</td>\n",
              "      <td>Yangon</td>\n",
              "      <td>Normal</td>\n",
              "      <td>Male</td>\n",
              "      <td>Home and lifestyle</td>\n",
              "      <td>46.33</td>\n",
              "      <td>7</td>\n",
              "      <td>16.2155</td>\n",
              "      <td>340.5255</td>\n",
              "      <td>3/3/2019</td>\n",
              "      <td>13:23</td>\n",
              "      <td>Credit card</td>\n",
              "      <td>324.31</td>\n",
              "      <td>4.761905</td>\n",
              "      <td>16.2155</td>\n",
              "      <td>7.4</td>\n",
              "    </tr>\n",
              "  </tbody>\n",
              "</table>\n",
              "</div>\n",
              "      <button class=\"colab-df-convert\" onclick=\"convertToInteractive('df-6b29e84f-ccfe-4bfb-ad5b-e53b5fa382a1')\"\n",
              "              title=\"Convert this dataframe to an interactive table.\"\n",
              "              style=\"display:none;\">\n",
              "\n",
              "  <svg xmlns=\"http://www.w3.org/2000/svg\" height=\"24px\"viewBox=\"0 0 24 24\"\n",
              "       width=\"24px\">\n",
              "    <path d=\"M0 0h24v24H0V0z\" fill=\"none\"/>\n",
              "    <path d=\"M18.56 5.44l.94 2.06.94-2.06 2.06-.94-2.06-.94-.94-2.06-.94 2.06-2.06.94zm-11 1L8.5 8.5l.94-2.06 2.06-.94-2.06-.94L8.5 2.5l-.94 2.06-2.06.94zm10 10l.94 2.06.94-2.06 2.06-.94-2.06-.94-.94-2.06-.94 2.06-2.06.94z\"/><path d=\"M17.41 7.96l-1.37-1.37c-.4-.4-.92-.59-1.43-.59-.52 0-1.04.2-1.43.59L10.3 9.45l-7.72 7.72c-.78.78-.78 2.05 0 2.83L4 21.41c.39.39.9.59 1.41.59.51 0 1.02-.2 1.41-.59l7.78-7.78 2.81-2.81c.8-.78.8-2.07 0-2.86zM5.41 20L4 18.59l7.72-7.72 1.47 1.35L5.41 20z\"/>\n",
              "  </svg>\n",
              "      </button>\n",
              "\n",
              "\n",
              "\n",
              "    <div id=\"df-6acffeb4-8e4e-41f6-b39a-821ff3440b9b\">\n",
              "      <button class=\"colab-df-quickchart\" onclick=\"quickchart('df-6acffeb4-8e4e-41f6-b39a-821ff3440b9b')\"\n",
              "              title=\"Suggest charts.\"\n",
              "              style=\"display:none;\">\n",
              "\n",
              "<svg xmlns=\"http://www.w3.org/2000/svg\" height=\"24px\"viewBox=\"0 0 24 24\"\n",
              "     width=\"24px\">\n",
              "    <g>\n",
              "        <path d=\"M19 3H5c-1.1 0-2 .9-2 2v14c0 1.1.9 2 2 2h14c1.1 0 2-.9 2-2V5c0-1.1-.9-2-2-2zM9 17H7v-7h2v7zm4 0h-2V7h2v10zm4 0h-2v-4h2v4z\"/>\n",
              "    </g>\n",
              "</svg>\n",
              "      </button>\n",
              "    </div>\n",
              "\n",
              "<style>\n",
              "  .colab-df-quickchart {\n",
              "    background-color: #E8F0FE;\n",
              "    border: none;\n",
              "    border-radius: 50%;\n",
              "    cursor: pointer;\n",
              "    display: none;\n",
              "    fill: #1967D2;\n",
              "    height: 32px;\n",
              "    padding: 0 0 0 0;\n",
              "    width: 32px;\n",
              "  }\n",
              "\n",
              "  .colab-df-quickchart:hover {\n",
              "    background-color: #E2EBFA;\n",
              "    box-shadow: 0px 1px 2px rgba(60, 64, 67, 0.3), 0px 1px 3px 1px rgba(60, 64, 67, 0.15);\n",
              "    fill: #174EA6;\n",
              "  }\n",
              "\n",
              "  [theme=dark] .colab-df-quickchart {\n",
              "    background-color: #3B4455;\n",
              "    fill: #D2E3FC;\n",
              "  }\n",
              "\n",
              "  [theme=dark] .colab-df-quickchart:hover {\n",
              "    background-color: #434B5C;\n",
              "    box-shadow: 0px 1px 3px 1px rgba(0, 0, 0, 0.15);\n",
              "    filter: drop-shadow(0px 1px 2px rgba(0, 0, 0, 0.3));\n",
              "    fill: #FFFFFF;\n",
              "  }\n",
              "</style>\n",
              "\n",
              "    <script>\n",
              "      async function quickchart(key) {\n",
              "        const containerElement = document.querySelector('#' + key);\n",
              "        const charts = await google.colab.kernel.invokeFunction(\n",
              "            'suggestCharts', [key], {});\n",
              "      }\n",
              "    </script>\n",
              "\n",
              "      <script>\n",
              "\n",
              "function displayQuickchartButton(domScope) {\n",
              "  let quickchartButtonEl =\n",
              "    domScope.querySelector('#df-6acffeb4-8e4e-41f6-b39a-821ff3440b9b button.colab-df-quickchart');\n",
              "  quickchartButtonEl.style.display =\n",
              "    google.colab.kernel.accessAllowed ? 'block' : 'none';\n",
              "}\n",
              "\n",
              "        displayQuickchartButton(document);\n",
              "      </script>\n",
              "      <style>\n",
              "    .colab-df-container {\n",
              "      display:flex;\n",
              "      flex-wrap:wrap;\n",
              "      gap: 12px;\n",
              "    }\n",
              "\n",
              "    .colab-df-convert {\n",
              "      background-color: #E8F0FE;\n",
              "      border: none;\n",
              "      border-radius: 50%;\n",
              "      cursor: pointer;\n",
              "      display: none;\n",
              "      fill: #1967D2;\n",
              "      height: 32px;\n",
              "      padding: 0 0 0 0;\n",
              "      width: 32px;\n",
              "    }\n",
              "\n",
              "    .colab-df-convert:hover {\n",
              "      background-color: #E2EBFA;\n",
              "      box-shadow: 0px 1px 2px rgba(60, 64, 67, 0.3), 0px 1px 3px 1px rgba(60, 64, 67, 0.15);\n",
              "      fill: #174EA6;\n",
              "    }\n",
              "\n",
              "    [theme=dark] .colab-df-convert {\n",
              "      background-color: #3B4455;\n",
              "      fill: #D2E3FC;\n",
              "    }\n",
              "\n",
              "    [theme=dark] .colab-df-convert:hover {\n",
              "      background-color: #434B5C;\n",
              "      box-shadow: 0px 1px 3px 1px rgba(0, 0, 0, 0.15);\n",
              "      filter: drop-shadow(0px 1px 2px rgba(0, 0, 0, 0.3));\n",
              "      fill: #FFFFFF;\n",
              "    }\n",
              "  </style>\n",
              "\n",
              "      <script>\n",
              "        const buttonEl =\n",
              "          document.querySelector('#df-6b29e84f-ccfe-4bfb-ad5b-e53b5fa382a1 button.colab-df-convert');\n",
              "        buttonEl.style.display =\n",
              "          google.colab.kernel.accessAllowed ? 'block' : 'none';\n",
              "\n",
              "        async function convertToInteractive(key) {\n",
              "          const element = document.querySelector('#df-6b29e84f-ccfe-4bfb-ad5b-e53b5fa382a1');\n",
              "          const dataTable =\n",
              "            await google.colab.kernel.invokeFunction('convertToInteractive',\n",
              "                                                     [key], {});\n",
              "          if (!dataTable) return;\n",
              "\n",
              "          const docLinkHtml = 'Like what you see? Visit the ' +\n",
              "            '<a target=\"_blank\" href=https://colab.research.google.com/notebooks/data_table.ipynb>data table notebook</a>'\n",
              "            + ' to learn more about interactive tables.';\n",
              "          element.innerHTML = '';\n",
              "          dataTable['output_type'] = 'display_data';\n",
              "          await google.colab.output.renderOutput(dataTable, element);\n",
              "          const docLink = document.createElement('div');\n",
              "          docLink.innerHTML = docLinkHtml;\n",
              "          element.appendChild(docLink);\n",
              "        }\n",
              "      </script>\n",
              "    </div>\n",
              "  </div>\n"
            ]
          },
          "metadata": {},
          "execution_count": 24
        }
      ],
      "source": [
        "df = pd.read_csv('CSV/supermarket_sales.csv')\n",
        "df.head(3)"
      ]
    },
    {
      "cell_type": "code",
      "execution_count": 8,
      "metadata": {
        "id": "iCD0WHtO1rPS"
      },
      "outputs": [],
      "source": [
        "def createPDFVectorDB(data_path, vector_embedding_path):\n",
        "    loader = DirectoryLoader(data_path, glob='*.pdf', loader_cls=PyPDFLoader,\n",
        "                             use_multithreading=True, show_progress=True)\n",
        "    docs = loader.load()\n",
        "    text_splitter  = RecursiveCharacterTextSplitter(chunk_size = 1000, chunk_overlap=200)\n",
        "    texts = text_splitter.split_documents(docs)\n",
        "    embedding_model = HuggingFaceEmbeddings(model_name='sentence-transformers/all-mpnet-base-v2', model_kwargs={'device':'cuda'})\n",
        "    db = FAISS.from_documents(texts, embedding_model)\n",
        "    db.save_local(vector_embedding_path)\n"
      ]
    },
    {
      "cell_type": "code",
      "execution_count": 18,
      "metadata": {
        "id": "TS_FaxdkqQSK"
      },
      "outputs": [],
      "source": [
        "def createCSVVectorDB(data_path, vector_embedding_path):\n",
        "    for csv_file_name in os.listdir(data_path):\n",
        "        csv_file_path = os.path.join(data_path, csv_file_name)\n",
        "        df = pd.read_csv(csv_file_path)[:1]\n",
        "        field_names = list(df.columns)\n",
        "        loader = CSVLoader(csv_file_path, csv_args={\n",
        "                                    'delimiter': ',',\n",
        "                                    'quotechar': '\"',\n",
        "                                    'fieldnames': field_names}, encoding=\"utf-8\",)\n",
        "        csv_data = loader.load()\n",
        "        embedding_model = HuggingFaceEmbeddings(model_name='sentence-transformers/all-mpnet-base-v2', model_kwargs={'device':'cuda'})\n",
        "        db = FAISS.from_documents(csv_data, embedding_model)\n",
        "        db.save_local(vector_embedding_path)\n"
      ]
    },
    {
      "cell_type": "code",
      "execution_count": 11,
      "metadata": {
        "colab": {
          "base_uri": "https://localhost:8080/"
        },
        "id": "jicZlLuj_KTF",
        "outputId": "f6610a4a-f8dd-446c-9521-4c63c1f5e122"
      },
      "outputs": [
        {
          "output_type": "stream",
          "name": "stdout",
          "text": [
            "/content/gdrive/MyDrive/Python_DA_DS_ML/Gen AI/LLM & Langchain\n"
          ]
        }
      ],
      "source": [
        "%cd \"/content/gdrive/MyDrive/Python_DA_DS_ML/Gen AI/LLM & Langchain\""
      ]
    },
    {
      "cell_type": "code",
      "execution_count": null,
      "metadata": {
        "colab": {
          "base_uri": "https://localhost:8080/"
        },
        "id": "z2TYSai74nWB",
        "outputId": "bfea2601-0fe3-4343-f44f-283e1a30f44a"
      },
      "outputs": [
        {
          "name": "stderr",
          "output_type": "stream",
          "text": [
            "100%|██████████| 1/1 [00:02<00:00,  2.99s/it]\n"
          ]
        }
      ],
      "source": [
        "pdf_data_path = \"./PDF\"\n",
        "pdf_vector_embedding_path = \"./Vector_DB_PDF\"\n",
        "createPDFVectorDB(pdf_data_path, pdf_vector_embedding_path)"
      ]
    },
    {
      "cell_type": "code",
      "execution_count": 19,
      "metadata": {
        "id": "xkVa0l9cmmfC"
      },
      "outputs": [],
      "source": [
        "csv_data_path = \"./CSV\"\n",
        "csv_vector_embedding_path = \"./Vector_DB_CSV\"\n",
        "createCSVVectorDB(csv_data_path, csv_vector_embedding_path)"
      ]
    },
    {
      "cell_type": "code",
      "execution_count": null,
      "metadata": {
        "colab": {
          "base_uri": "https://localhost:8080/"
        },
        "id": "z4CFz5VBBMvQ",
        "outputId": "3651e975-a4e8-4bbc-d6fd-7a6280642ba3"
      },
      "outputs": [
        {
          "data": {
            "text/plain": [
              "[Document(page_content='60. For realizing the vision of “Make AI in India and Make AI work for \\nIndia”,  three centres of excellence for Artificial Intelligence will be set-up in \\ntop educational institutions. Leading industry players will partner in \\nconducting interdisciplinary research, develop cutting-edge applications and \\nscalable problem solutions in the areas of agriculture, health, and \\nsustainable cities. This will galvanize an effective AI ecosystem and nurture \\nquality human resources in the field. \\nNational Data Governance Policy  \\n61. To unleash innovation and research by start-ups and academia, a \\nNational Data Governance Policy will be brought out. This will enable access \\nto anonymized data. \\nSimplification of Know Your Customer (KYC) process  \\n62. The KYC process will be simplified adopting a ‘risk-based’ instead of \\n‘one size fits all’ approach. The financial sector regulators will also be', metadata={'source': 'PDF/budget_2023.pdf', 'page': 17})]"
            ]
          },
          "execution_count": 54,
          "metadata": {},
          "output_type": "execute_result"
        }
      ],
      "source": [
        "embedding = HuggingFaceEmbeddings(model_name='sentence-transformers/all-mpnet-base-v2', model_kwargs={'device':'cuda'})\n",
        "test_idex = FAISS.load_local(pdf_vector_embedding_path,embedding)\n",
        "question = \"Artificial Intelligence in budget\"\n",
        "top_k_chunks  = test_idex.similarity_search(question,k=1)\n",
        "top_k_chunks"
      ]
    },
    {
      "cell_type": "code",
      "source": [
        "embedding = HuggingFaceEmbeddings(model_name='sentence-transformers/all-mpnet-base-v2', model_kwargs={'device':'cuda'})\n",
        "test_idex = FAISS.load_local(csv_vector_embedding_path,embedding)\n",
        "question = \"Find the Gender\tdistribution\"\n",
        "top_k_chunks  = test_idex.similarity_search(question,k=1)\n",
        "top_k_chunks"
      ],
      "metadata": {
        "colab": {
          "base_uri": "https://localhost:8080/"
        },
        "id": "e3xYMChUzNe5",
        "outputId": "5544ccac-a1be-44e2-a237-75e1851f948a"
      },
      "execution_count": 20,
      "outputs": [
        {
          "output_type": "execute_result",
          "data": {
            "text/plain": [
              "[Document(page_content='Invoice ID: 192-98-7397\\nBranch: C\\nCity: Naypyitaw\\nCustomer type: Normal\\nGender: Male\\nProduct line: Fashion accessories\\nUnit price: 12.78\\nQuantity: 1\\nTax 5%: 0.639\\nTotal: 13.419\\nDate: 1/8/2019\\nTime: 14:11\\nPayment: Ewallet\\ncogs: 12.78\\ngross margin percentage: 4.761904762\\ngross income: 0.639\\nRating: 9.5', metadata={'source': './CSV/supermarket_sales.csv', 'row': 444})]"
            ]
          },
          "metadata": {},
          "execution_count": 20
        }
      ]
    },
    {
      "cell_type": "code",
      "execution_count": null,
      "metadata": {
        "id": "mVuQ3PFzFd1N"
      },
      "outputs": [],
      "source": [
        "def _createQuestionPrompt(question, top_k_chunks):\n",
        "    prompt= \"\"\n",
        "    prompt += 'search results:\\n\\n'\n",
        "    for i in range(len(top_k_chunks)):\n",
        "        meta_info = '['+top_k_chunks[i].metadata['source'].split('/')[-1] + \" , page : \" + str(top_k_chunks[i].metadata['page'])+'] '\n",
        "        page_content = top_k_chunks[i].page_content.replace('\\n', ' ')\n",
        "        page_content = re.sub('\\s+', ' ', page_content)\n",
        "        combined_content = meta_info + page_content\n",
        "        prompt = combined_content +'\\n\\n'\n",
        "    prompt += \"Instructions: Compose a comprehensive reply to the query using the search results given.\"\\\n",
        "                \"Cite each reference using [pdfname.pdf , page : number] notation (every result has this number at the beginning).\"\\\n",
        "                \"Citation should be done at the end of each sentence. If the search results mention multiple subjects\"\\\n",
        "                \"with the same name, create separate answers for each. Only include information found in the results and\"\\\n",
        "                \"don't add any additional information. Make sure the answer is correct and don't output false content.\"\\\n",
        "                \"If the text does not relate to the query, simply state 'Found Nothing'. Don't write 'Answer:'\"\\\n",
        "                \"Directly start the answer.\\n\"\n",
        "    prompt+= f\"Query : {question} \\n\\n\"\n",
        "    return prompt"
      ]
    },
    {
      "cell_type": "code",
      "execution_count": null,
      "metadata": {
        "id": "cGc1hj-5DnYo"
      },
      "outputs": [],
      "source": [
        "question = \"Artificial Intelligence in budget\"\n",
        "prompt =  _createQuestionPrompt(question, top_k_chunks)"
      ]
    },
    {
      "cell_type": "code",
      "execution_count": null,
      "metadata": {
        "colab": {
          "base_uri": "https://localhost:8080/"
        },
        "id": "FtVgA0JkF9Ix",
        "outputId": "e15c5f95-9da8-45be-f470-9f9eb50e50d8"
      },
      "outputs": [
        {
          "name": "stdout",
          "output_type": "stream",
          "text": [
            "[budget_2023.pdf , page : 17] 60. For realizing the vision of “Make AI in India and Make AI work for India”, three centres of excellence for Artificial Intelligence will be set-up in top educational institutions. Leading industry players will partner in conducting interdisciplinary research, develop cutting-edge applications and scalable problem solutions in the areas of agriculture, health, and sustainable cities. This will galvanize an effective AI ecosystem and nurture quality human resources in the field. National Data Governance Policy 61. To unleash innovation and research by start-ups and academia, a National Data Governance Policy will be brought out. This will enable access to anonymized data. Simplification of Know Your Customer (KYC) process 62. The KYC process will be simplified adopting a ‘risk-based’ instead of ‘one size fits all’ approach. The financial sector regulators will also be\n",
            "\n",
            "Instructions: Compose a comprehensive reply to the query using the search results given.Cite each reference using [pdfname.pdf , page : number] notation (every result has this number at the beginning).Citation should be done at the end of each sentence. If the search results mention multiple subjectswith the same name, create separate answers for each. Only include information found in the results anddon't add any additional information. Make sure the answer is correct and don't output false content.If the text does not relate to the query, simply state 'Found Nothing'. Don't write 'Answer:'Directly start the answer.\n",
            "Query : Artificial Intelligence in budget \n",
            "\n",
            "\n"
          ]
        }
      ],
      "source": [
        "print(prompt)"
      ]
    },
    {
      "cell_type": "code",
      "execution_count": null,
      "metadata": {
        "id": "jA9TCBk3GXg2"
      },
      "outputs": [],
      "source": [
        "model_path = \"./LLAMA2_Model/llama-2-7b-chat.ggmlv3.q8_0.bin\"\n",
        "llm = CTransformers(\n",
        "    model=model_path,callbacks=[StreamingStdOutCallbackHandler()],\n",
        "    model_type='llama',temperature = 0\n",
        ")"
      ]
    },
    {
      "cell_type": "code",
      "execution_count": null,
      "metadata": {
        "colab": {
          "base_uri": "https://localhost:8080/"
        },
        "id": "GwZUfPsRIVIQ",
        "outputId": "2e5ae963-1f6d-41ee-bce8-78530d12d523"
      },
      "outputs": [
        {
          "name": "stdout",
          "output_type": "stream",
          "text": [
            "Answer :\n",
            "The Union Budget for 2023-24 has allocated significant funds towards the development and promotion of Artificial Intelligence (AI) in India. According to [budget_2023.pdf , page : 17], three centers of excellence for AI will be set up in top educational institutions, leading industry players will partner in conducting interdisciplinary research, and cutting-edge applications and scalable problem solutions will be developed in the areas of agriculture, health, and sustainable cities. This will help galvanize an effective AI ecosystem and nurture quality human resources in the field.\n",
            "the field [170 \n",
            "the field. National Data Governance.\n",
            "  63 the field.\n",
            "\n",
            "\n",
            "the field.\n",
            "\n",
            "the field. Further, [170the field.\n",
            "the field.\n",
            "\n",
            "the field.\n",
            "the field. Additionally, the field (Buding.\n",
            "\n",
            "\n",
            "the field.\n",
            "the field.\n",
            "the field.\n",
            "the field.\n",
            "the field.\n",
            "\n",
            "  the field.\n",
            "the field.\n",
            "the field.\n",
            "the field [75 the field.\n",
            "\n",
            "the field.Execution Time in seconds :  558.8962256908417\n"
          ]
        }
      ],
      "source": [
        "### Without Callback\n",
        "start_time = time.time()\n",
        "prompt =  _createQuestionPrompt(question, top_k_chunks)\n",
        "response = llm(prompt)\n",
        "end_time =  time.time()\n",
        "print(\"Execution Time in seconds : \", end_time-start_time)"
      ]
    },
    {
      "cell_type": "code",
      "execution_count": null,
      "metadata": {
        "colab": {
          "base_uri": "https://localhost:8080/"
        },
        "id": "ZVJh8ll4Jd8w",
        "outputId": "1c30ef4e-2ab4-4dfa-b4c6-cd0937e64aed"
      },
      "outputs": [
        {
          "name": "stdout",
          "output_type": "stream",
          "text": [
            "Budget 2023 has allocated Rs 100 crore for AI development and deployment, as part of its larger goal to transform India into a leading AI hub. (budget_2023.pdf , page 17) \n",
            "To realize the vision of \"Make AI in India and Make AI work for India\", three centers of excellence for Artificial Intelligence will be set-up in top educational institutions. (budget_2023.pdf , page 17) 60. Leading industry players will partner in conducting interdisciplinary research, develop cutting-edge applications and edge applications and edgedge\n",
            "Execution Time in seconds :  442.3121931552887\n"
          ]
        }
      ],
      "source": [
        "## With Callback\n",
        "start_time = time.time()\n",
        "prompt =  _createQuestionPrompt(question, top_k_chunks)\n",
        "response = llm(prompt)\n",
        "end_time =  time.time()\n",
        "print(\"\\nExecution Time in seconds : \", end_time-start_time)"
      ]
    },
    {
      "cell_type": "code",
      "execution_count": null,
      "metadata": {
        "colab": {
          "base_uri": "https://localhost:8080/",
          "height": 86
        },
        "id": "3as1e2AwVt7f",
        "outputId": "95bc918d-7292-439b-f3b3-abcd5715e9cb"
      },
      "outputs": [
        {
          "data": {
            "text/html": [
              "\n",
              "<style>\n",
              "  pre {\n",
              "      white-space: normal;\n",
              "  }\n",
              "</style>\n"
            ],
            "text/plain": [
              "<IPython.core.display.HTML object>"
            ]
          },
          "metadata": {},
          "output_type": "display_data"
        },
        {
          "name": "stdout",
          "output_type": "stream",
          "text": [
            "Budget 2023 has allocated Rs 100 crore for AI development and deployment, as part of its larger goal to transform India into a leading AI hub. (budget_2023.pdf , page 17) \n",
            "To realize the vision of \"Make AI in India and Make AI work for India\", three centers of excellence for Artificial Intelligence will be set-up in top educational institutions. (budget_2023.pdf , page 17) 60. Leading industry players will partner in conducting interdisciplinary research, develop cutting-edge applications and edge applications and edgedge\n"
          ]
        }
      ],
      "source": [
        "from IPython.display import HTML\n",
        "display(HTML('''\n",
        "<style>\n",
        "  pre {\n",
        "      white-space: normal;\n",
        "  }\n",
        "</style>\n",
        "'''))\n",
        "print(response)"
      ]
    },
    {
      "cell_type": "code",
      "execution_count": null,
      "metadata": {
        "id": "7Nxwjno_WGi7"
      },
      "outputs": [],
      "source": []
    }
  ],
  "metadata": {
    "accelerator": "GPU",
    "colab": {
      "provenance": []
    },
    "kernelspec": {
      "display_name": "Python 3",
      "name": "python3"
    },
    "language_info": {
      "name": "python"
    }
  },
  "nbformat": 4,
  "nbformat_minor": 0
}