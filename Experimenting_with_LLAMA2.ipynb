{
  "cells": [
    {
      "cell_type": "code",
      "execution_count": 48,
      "metadata": {
        "id": "_REHHmLr0njj",
        "colab": {
          "base_uri": "https://localhost:8080/"
        },
        "outputId": "69e01eff-474e-4c8a-ce41-40dfae83f590"
      },
      "outputs": [
        {
          "output_type": "stream",
          "name": "stdout",
          "text": [
            "\u001b[?25l     \u001b[90m━━━━━━━━━━━━━━━━━━━━━━━━━━━━━━━━━━━━━━━━\u001b[0m \u001b[32m0.0/6.5 MB\u001b[0m \u001b[31m?\u001b[0m eta \u001b[36m-:--:--\u001b[0m\r\u001b[2K     \u001b[91m╸\u001b[0m\u001b[90m━━━━━━━━━━━━━━━━━━━━━━━━━━━━━━━━━━━━━━━\u001b[0m \u001b[32m0.1/6.5 MB\u001b[0m \u001b[31m3.1 MB/s\u001b[0m eta \u001b[36m0:00:03\u001b[0m\r\u001b[2K     \u001b[91m━━━━\u001b[0m\u001b[90m╺\u001b[0m\u001b[90m━━━━━━━━━━━━━━━━━━━━━━━━━━━━━━━━━━━\u001b[0m \u001b[32m0.7/6.5 MB\u001b[0m \u001b[31m9.5 MB/s\u001b[0m eta \u001b[36m0:00:01\u001b[0m\r\u001b[2K     \u001b[91m━━━━━━━━━━━━\u001b[0m\u001b[91m╸\u001b[0m\u001b[90m━━━━━━━━━━━━━━━━━━━━━━━━━━━\u001b[0m \u001b[32m2.1/6.5 MB\u001b[0m \u001b[31m20.2 MB/s\u001b[0m eta \u001b[36m0:00:01\u001b[0m\r\u001b[2K     \u001b[91m━━━━━━━━━━━━━━━━━━━\u001b[0m\u001b[90m╺\u001b[0m\u001b[90m━━━━━━━━━━━━━━━━━━━━\u001b[0m \u001b[32m3.1/6.5 MB\u001b[0m \u001b[31m23.5 MB/s\u001b[0m eta \u001b[36m0:00:01\u001b[0m\r\u001b[2K     \u001b[91m━━━━━━━━━━━━━━━━━━━━━━━━━\u001b[0m\u001b[91m╸\u001b[0m\u001b[90m━━━━━━━━━━━━━━\u001b[0m \u001b[32m4.2/6.5 MB\u001b[0m \u001b[31m27.1 MB/s\u001b[0m eta \u001b[36m0:00:01\u001b[0m\r\u001b[2K     \u001b[91m━━━━━━━━━━━━━━━━━━━━━━━━━━━━━━━━━━━━━━━\u001b[0m\u001b[91m╸\u001b[0m \u001b[32m6.5/6.5 MB\u001b[0m \u001b[31m31.5 MB/s\u001b[0m eta \u001b[36m0:00:01\u001b[0m\r\u001b[2K     \u001b[90m━━━━━━━━━━━━━━━━━━━━━━━━━━━━━━━━━━━━━━━━\u001b[0m \u001b[32m6.5/6.5 MB\u001b[0m \u001b[31m27.5 MB/s\u001b[0m eta \u001b[36m0:00:00\u001b[0m\n",
            "\u001b[?25h"
          ]
        }
      ],
      "source": [
        "!pip install langchain -q\n",
        "!pip install sentence_transformers -q\n",
        "!pip install huggingface_hub -q\n",
        "!pip install pypdf -q\n",
        "!pip install faiss-cpu -q\n",
        "!pip install ctransformers -q"
      ]
    },
    {
      "cell_type": "code",
      "execution_count": 2,
      "metadata": {
        "colab": {
          "base_uri": "https://localhost:8080/"
        },
        "id": "5_WtVhYYyeVb",
        "outputId": "ed198879-81bf-488d-92f1-2dd6a98585ba"
      },
      "outputs": [
        {
          "output_type": "stream",
          "name": "stdout",
          "text": [
            "Mounted at /content/gdrive\n"
          ]
        }
      ],
      "source": [
        "### Mount to g-drive (Sign in required for the mount)\n",
        "from google.colab import drive\n",
        "drive.mount(\"/content/gdrive\", force_remount=True)"
      ]
    },
    {
      "cell_type": "code",
      "execution_count": 46,
      "metadata": {
        "id": "g9PqFzGzyrwX"
      },
      "outputs": [],
      "source": [
        "import re\n",
        "import time\n",
        "import torch\n",
        "from langchain import PromptTemplate\n",
        "from langchain.llms import  CTransformers\n",
        "from langchain.chains import RetrievalQA\n",
        "from langchain.text_splitter import RecursiveCharacterTextSplitter\n",
        "from langchain.document_loaders import PyPDFLoader, DirectoryLoader\n",
        "from langchain.embeddings import HuggingFaceEmbeddings\n",
        "from sentence_transformers import SentenceTransformer\n",
        "from langchain.chains.question_answering import load_qa_chain\n",
        "from langchain.callbacks.manager import CallbackManager\n",
        "from langchain.callbacks.streaming_stdout import StreamingStdOutCallbackHandler\n",
        "from langchain.vectorstores import FAISS\n",
        "from huggingface_hub import hf_hub_download\n"
      ]
    },
    {
      "cell_type": "code",
      "execution_count": 10,
      "metadata": {
        "id": "EORd2Mk00KtA"
      },
      "outputs": [],
      "source": [
        "model_name_or_path = \"TheBloke/Llama-2-13B-chat-GGML\"\n",
        "model_basename = \"llama-2-13b-chat.ggmlv3.q5_1.bin\"\n",
        "local_dir = \"/content/gdrive/MyDrive/Python_DA_DS_ML/Gen AI/LLM & Langchain/LLAMA2_Model\"\n",
        "model_path = hf_hub_download(repo_id=model_name_or_path, filename=model_basename, local_dir = local_dir)"
      ]
    },
    {
      "cell_type": "code",
      "execution_count": 4,
      "metadata": {
        "id": "iCD0WHtO1rPS"
      },
      "outputs": [],
      "source": [
        "def createVectorDB(data_path, vector_embedding_path):\n",
        "    loader = DirectoryLoader(data_path, glob='*.pdf', loader_cls=PyPDFLoader)\n",
        "    docs = loader.load()\n",
        "    text_splitter  = RecursiveCharacterTextSplitter(chunk_size = 1000, chunk_overlap=200)\n",
        "    texts = text_splitter.split_documents(docs)\n",
        "    embedding_model = HuggingFaceEmbeddings(model_name='sentence-transformers/all-mpnet-base-v2', model_kwargs={'device':'cuda'})\n",
        "    db = FAISS.from_documents(texts, embedding_model)\n",
        "    db.save_local(vector_embedding_path)\n"
      ]
    },
    {
      "cell_type": "code",
      "source": [
        "%cd \"/content/gdrive/MyDrive/Python_DA_DS_ML/Gen AI/LLM & Langchain\""
      ],
      "metadata": {
        "colab": {
          "base_uri": "https://localhost:8080/"
        },
        "id": "jicZlLuj_KTF",
        "outputId": "9ec334ef-b37c-4d13-f0f7-cc5625afe637"
      },
      "execution_count": 5,
      "outputs": [
        {
          "output_type": "stream",
          "name": "stdout",
          "text": [
            "/content/gdrive/MyDrive/Python_DA_DS_ML/Gen AI/LLM & Langchain\n"
          ]
        }
      ]
    },
    {
      "cell_type": "code",
      "source": [
        "data_path = \"./PDF\"\n",
        "vector_embedding_path = \"./Vector_DB\"\n",
        "createVectorDB(data_path, vector_embedding_path)"
      ],
      "metadata": {
        "id": "z2TYSai74nWB"
      },
      "execution_count": 8,
      "outputs": []
    },
    {
      "cell_type": "code",
      "source": [
        "embedding = HuggingFaceEmbeddings(model_name='sentence-transformers/all-mpnet-base-v2', model_kwargs={'device':'cuda'})\n",
        "test_idex = FAISS.load_local(vector_embedding_path,embedding)\n",
        "question = \"Artificial Intelligence in budget\"\n",
        "top_k_chunks  = test_idex.similarity_search(question,k=1)\n",
        "top_k_chunks"
      ],
      "metadata": {
        "colab": {
          "base_uri": "https://localhost:8080/"
        },
        "id": "z4CFz5VBBMvQ",
        "outputId": "3651e975-a4e8-4bbc-d6fd-7a6280642ba3"
      },
      "execution_count": 54,
      "outputs": [
        {
          "output_type": "execute_result",
          "data": {
            "text/plain": [
              "[Document(page_content='60. For realizing the vision of “Make AI in India and Make AI work for \\nIndia”,  three centres of excellence for Artificial Intelligence will be set-up in \\ntop educational institutions. Leading industry players will partner in \\nconducting interdisciplinary research, develop cutting-edge applications and \\nscalable problem solutions in the areas of agriculture, health, and \\nsustainable cities. This will galvanize an effective AI ecosystem and nurture \\nquality human resources in the field. \\nNational Data Governance Policy  \\n61. To unleash innovation and research by start-ups and academia, a \\nNational Data Governance Policy will be brought out. This will enable access \\nto anonymized data. \\nSimplification of Know Your Customer (KYC) process  \\n62. The KYC process will be simplified adopting a ‘risk-based’ instead of \\n‘one size fits all’ approach. The financial sector regulators will also be', metadata={'source': 'PDF/budget_2023.pdf', 'page': 17})]"
            ]
          },
          "metadata": {},
          "execution_count": 54
        }
      ]
    },
    {
      "cell_type": "code",
      "source": [
        "def _createQuestionPrompt(question, top_k_chunks):\n",
        "    prompt= \"\"\n",
        "    prompt += 'search results:\\n\\n'\n",
        "    for i in range(len(top_k_chunks)):\n",
        "        meta_info = '['+top_k_chunks[i].metadata['source'].split('/')[-1] + \" , page : \" + str(top_k_chunks[i].metadata['page'])+'] '\n",
        "        page_content = top_k_chunks[i].page_content.replace('\\n', ' ')\n",
        "        page_content = re.sub('\\s+', ' ', page_content)\n",
        "        combined_content = meta_info + page_content\n",
        "        prompt = combined_content +'\\n\\n'\n",
        "    prompt += \"Instructions: Compose a comprehensive reply to the query using the search results given.\"\\\n",
        "                \"Cite each reference using [pdfname.pdf , page : number] notation (every result has this number at the beginning).\"\\\n",
        "                \"Citation should be done at the end of each sentence. If the search results mention multiple subjects\"\\\n",
        "                \"with the same name, create separate answers for each. Only include information found in the results and\"\\\n",
        "                \"don't add any additional information. Make sure the answer is correct and don't output false content.\"\\\n",
        "                \"If the text does not relate to the query, simply state 'Found Nothing'. Don't write 'Answer:'\"\\\n",
        "                \"Directly start the answer.\\n\"\n",
        "    prompt+= f\"Query : {question} \\n\\n\"\n",
        "    return prompt"
      ],
      "metadata": {
        "id": "mVuQ3PFzFd1N"
      },
      "execution_count": 55,
      "outputs": []
    },
    {
      "cell_type": "code",
      "source": [
        "question = \"Artificial Intelligence in budget\"\n",
        "prompt =  _createQuestionPrompt(question, top_k_chunks)"
      ],
      "metadata": {
        "id": "cGc1hj-5DnYo"
      },
      "execution_count": 56,
      "outputs": []
    },
    {
      "cell_type": "code",
      "source": [
        "print(prompt)"
      ],
      "metadata": {
        "colab": {
          "base_uri": "https://localhost:8080/"
        },
        "id": "FtVgA0JkF9Ix",
        "outputId": "e15c5f95-9da8-45be-f470-9f9eb50e50d8"
      },
      "execution_count": 57,
      "outputs": [
        {
          "output_type": "stream",
          "name": "stdout",
          "text": [
            "[budget_2023.pdf , page : 17] 60. For realizing the vision of “Make AI in India and Make AI work for India”, three centres of excellence for Artificial Intelligence will be set-up in top educational institutions. Leading industry players will partner in conducting interdisciplinary research, develop cutting-edge applications and scalable problem solutions in the areas of agriculture, health, and sustainable cities. This will galvanize an effective AI ecosystem and nurture quality human resources in the field. National Data Governance Policy 61. To unleash innovation and research by start-ups and academia, a National Data Governance Policy will be brought out. This will enable access to anonymized data. Simplification of Know Your Customer (KYC) process 62. The KYC process will be simplified adopting a ‘risk-based’ instead of ‘one size fits all’ approach. The financial sector regulators will also be\n",
            "\n",
            "Instructions: Compose a comprehensive reply to the query using the search results given.Cite each reference using [pdfname.pdf , page : number] notation (every result has this number at the beginning).Citation should be done at the end of each sentence. If the search results mention multiple subjectswith the same name, create separate answers for each. Only include information found in the results anddon't add any additional information. Make sure the answer is correct and don't output false content.If the text does not relate to the query, simply state 'Found Nothing'. Don't write 'Answer:'Directly start the answer.\n",
            "Query : Artificial Intelligence in budget \n",
            "\n",
            "\n"
          ]
        }
      ]
    },
    {
      "cell_type": "code",
      "source": [
        "model_path = \"./LLAMA2_Model/llama-2-7b-chat.ggmlv3.q8_0.bin\"\n",
        "llm = CTransformers(\n",
        "    model=model_path,callbacks=[StreamingStdOutCallbackHandler()],\n",
        "    model_type='llama',temperature = 0\n",
        ")"
      ],
      "metadata": {
        "id": "jA9TCBk3GXg2"
      },
      "execution_count": 61,
      "outputs": []
    },
    {
      "cell_type": "code",
      "source": [
        "### Without Callback\n",
        "start_time = time.time()\n",
        "prompt =  _createQuestionPrompt(question, top_k_chunks)\n",
        "response = llm(prompt)\n",
        "end_time =  time.time()\n",
        "print(\"Execution Time in seconds : \", end_time-start_time)"
      ],
      "metadata": {
        "colab": {
          "base_uri": "https://localhost:8080/"
        },
        "id": "GwZUfPsRIVIQ",
        "outputId": "2e5ae963-1f6d-41ee-bce8-78530d12d523"
      },
      "execution_count": 58,
      "outputs": [
        {
          "output_type": "stream",
          "name": "stdout",
          "text": [
            "Answer :\n",
            "The Union Budget for 2023-24 has allocated significant funds towards the development and promotion of Artificial Intelligence (AI) in India. According to [budget_2023.pdf , page : 17], three centers of excellence for AI will be set up in top educational institutions, leading industry players will partner in conducting interdisciplinary research, and cutting-edge applications and scalable problem solutions will be developed in the areas of agriculture, health, and sustainable cities. This will help galvanize an effective AI ecosystem and nurture quality human resources in the field.\n",
            "the field [170 \n",
            "the field. National Data Governance.\n",
            "  63 the field.\n",
            "\n",
            "\n",
            "the field.\n",
            "\n",
            "the field. Further, [170the field.\n",
            "the field.\n",
            "\n",
            "the field.\n",
            "the field. Additionally, the field (Buding.\n",
            "\n",
            "\n",
            "the field.\n",
            "the field.\n",
            "the field.\n",
            "the field.\n",
            "the field.\n",
            "\n",
            "  the field.\n",
            "the field.\n",
            "the field.\n",
            "the field [75 the field.\n",
            "\n",
            "the field.Execution Time in seconds :  558.8962256908417\n"
          ]
        }
      ]
    },
    {
      "cell_type": "code",
      "source": [
        "## With Callback\n",
        "start_time = time.time()\n",
        "prompt =  _createQuestionPrompt(question, top_k_chunks)\n",
        "response = llm(prompt)\n",
        "end_time =  time.time()\n",
        "print(\"\\nExecution Time in seconds : \", end_time-start_time)"
      ],
      "metadata": {
        "colab": {
          "base_uri": "https://localhost:8080/"
        },
        "id": "ZVJh8ll4Jd8w",
        "outputId": "1c30ef4e-2ab4-4dfa-b4c6-cd0937e64aed"
      },
      "execution_count": 64,
      "outputs": [
        {
          "output_type": "stream",
          "name": "stdout",
          "text": [
            "Budget 2023 has allocated Rs 100 crore for AI development and deployment, as part of its larger goal to transform India into a leading AI hub. (budget_2023.pdf , page 17) \n",
            "To realize the vision of \"Make AI in India and Make AI work for India\", three centers of excellence for Artificial Intelligence will be set-up in top educational institutions. (budget_2023.pdf , page 17) 60. Leading industry players will partner in conducting interdisciplinary research, develop cutting-edge applications and edge applications and edgedge\n",
            "Execution Time in seconds :  442.3121931552887\n"
          ]
        }
      ]
    },
    {
      "cell_type": "code",
      "source": [],
      "metadata": {
        "id": "9sNo4VvOO6XI"
      },
      "execution_count": null,
      "outputs": []
    }
  ],
  "metadata": {
    "colab": {
      "provenance": [],
      "gpuType": "T4"
    },
    "kernelspec": {
      "display_name": "Python 3",
      "name": "python3"
    },
    "language_info": {
      "name": "python"
    },
    "accelerator": "GPU"
  },
  "nbformat": 4,
  "nbformat_minor": 0
}