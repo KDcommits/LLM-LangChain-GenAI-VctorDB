{
  "nbformat": 4,
  "nbformat_minor": 0,
  "metadata": {
    "colab": {
      "provenance": [],
      "collapsed_sections": [
        "9TJixsijx8x1",
        "sctYvR-Cp4qS",
        "DpL4wki4mE2R",
        "ewKirWU3mMEx",
        "7jYgW8MfmpKb",
        "qYoL69DNog7L"
      ]
    },
    "kernelspec": {
      "name": "python3",
      "display_name": "Python 3"
    },
    "language_info": {
      "name": "python"
    }
  },
  "cells": [
    {
      "cell_type": "markdown",
      "source": [
        "Reference : <br>\n",
        "1. https://www.questgen.ai/\n",
        "2. https://microsoft.github.io/TypeChat/blog/introducing-typechat/"
      ],
      "metadata": {
        "id": "0dKY4zzrlc8D"
      }
    },
    {
      "cell_type": "markdown",
      "source": [
        "## OpenAI Setup"
      ],
      "metadata": {
        "id": "9TJixsijx8x1"
      }
    },
    {
      "cell_type": "code",
      "source": [
        "from getpass import getpass\n",
        "openaikey = getpass('Enter the openai key: ')"
      ],
      "metadata": {
        "id": "3fxnCUvqqXOY",
        "colab": {
          "base_uri": "https://localhost:8080/"
        },
        "outputId": "679c6a20-5f13-4cd5-ab69-f0f25559b7b4"
      },
      "execution_count": null,
      "outputs": [
        {
          "name": "stdout",
          "output_type": "stream",
          "text": [
            "Enter the openai key: ··········\n"
          ]
        }
      ]
    },
    {
      "cell_type": "code",
      "source": [
        "text = \"\"\"Elon Musk has shown again he can influence the digital currency market with just his tweets. After saying that his electric vehicle-making company Tesla will not accept payments in Bitcoin because of environmental concerns, he tweeted that he was working with developers of Dogecoin to improve system transaction efficiency.\n",
        "\n",
        "Following the two distinct statements from him, the world's largest cryptocurrency hit a two-month low, while Dogecoin rallied by about 20 percent. The SpaceX CEO has in recent months often tweeted in support of Dogecoin, but rarely for Bitcoin.  In a recent tweet, Musk put out a statement from Tesla that it was concerned about the rapidly increasing use of fossil fuels for Bitcoin (price in India) mining and transaction, and hence was suspending vehicle purchases using the cryptocurrency.\n",
        "\n",
        "A day later he again tweeted saying, To be clear, I strongly believe in crypto, but it can't drive a massive increase in fossil fuel use, especially coal. It triggered a downward spiral for Bitcoin value but the cryptocurrency has stabilised since.  A number of Twitter users welcomed Musk's statement. One of them said it's time people started realising that Dogecoin is here to stay and another referred to Musk's previous assertion that crypto could become the world's future currency.\"\"\""
      ],
      "metadata": {
        "id": "ASjXkk3AtFBS"
      },
      "execution_count": null,
      "outputs": []
    },
    {
      "cell_type": "code",
      "source": [
        "chatgpt_url = \"https://api.openai.com/v1/chat/completions\"\n",
        "chatgpt_headers = {\n",
        "    \"content-type\": \"application/json\",\n",
        "    \"Authorization\":\"Bearer {}\".format(openaikey)}"
      ],
      "metadata": {
        "id": "RxZPgfzjx6lI"
      },
      "execution_count": null,
      "outputs": []
    },
    {
      "cell_type": "markdown",
      "source": [
        "## 1. Why do we need JSON output from LLMs?"
      ],
      "metadata": {
        "id": "sctYvR-Cp4qS"
      }
    },
    {
      "cell_type": "code",
      "source": [
        "count = 3\n",
        "\n",
        "prompt = f\"\"\"{text}\n",
        "--------------------------\n",
        "Generate {count} FAQs (frequently asked questions) from the above text. Generate a question and a corresponding answer.\"\"\"\n",
        "\n",
        "\n",
        "messages = [\n",
        "        {\"role\": \"system\", \"content\": \"You are an experienced FAQ creator.\"},\n",
        "        {\"role\": \"user\", \"content\": prompt}\n",
        "\n",
        "    ]\n",
        "\n",
        "chatgpt_payload = {\n",
        "    \"model\": \"gpt-3.5-turbo-16k\",\n",
        "    \"messages\": messages,\n",
        "    \"temperature\": 1.2,\n",
        "    \"max_tokens\": 300,\n",
        "    \"top_p\": 1,\n",
        "    \"stop\": [\"###\"]\n",
        "}"
      ],
      "metadata": {
        "id": "gfMjDU3iuHAr"
      },
      "execution_count": null,
      "outputs": []
    },
    {
      "cell_type": "code",
      "source": [
        "import requests\n",
        "response = requests.request(\"POST\", chatgpt_url, json=chatgpt_payload, headers=chatgpt_headers)\n",
        "response = response.json()\n",
        "print (response)\n",
        "print (response['choices'][0]['message']['content'])"
      ],
      "metadata": {
        "id": "HVAZiOToxDVV",
        "colab": {
          "base_uri": "https://localhost:8080/"
        },
        "outputId": "8829faa8-cc8c-4fa7-a528-fe9381bd4087"
      },
      "execution_count": null,
      "outputs": [
        {
          "output_type": "stream",
          "name": "stdout",
          "text": [
            "{'id': 'chatcmpl-7jLUqxmtm4ETdQHwjS76TDPtJKMCH', 'object': 'chat.completion', 'created': 1691041748, 'model': 'gpt-3.5-turbo-16k-0613', 'choices': [{'index': 0, 'message': {'role': 'assistant', 'content': \"Q1: Why did Elon Musk say that Tesla will not accept Bitcoin payments?\\n\\nA1: Elon Musk stated that Tesla will not accept Bitcoin payments due to concerns about the environmental impact of Bitcoin mining and transactions, particularly the use of fossil fuels.\\n\\nQ2: How did the cryptocurrency market react to Elon Musk's tweets about Bitcoin and Dogecoin?\\n\\nA2: After Elon Musk's tweet about Tesla not accepting Bitcoin payments, the price of Bitcoin hit a two-month low. On the other hand, Dogecoin rallied by about 20 percent following Musk's statement that he was working with Dogecoin developers to improve its transaction efficiency.\\n\\nQ3: What did Elon Musk mean when he said that crypto can't drive a massive increase in fossil fuel use?\\n\\nA3: Elon Musk's statement suggests that he believes the rapid growth of cryptocurrencies, like Bitcoin, should not result in a significant increase in the use of fossil fuels, especially coal. He expressed concern about the environmental impact of such practices and emphasized the need for a more sustainable approach.\"}, 'finish_reason': 'stop'}], 'usage': {'prompt_tokens': 295, 'completion_tokens': 209, 'total_tokens': 504}}\n",
            "Q1: Why did Elon Musk say that Tesla will not accept Bitcoin payments?\n",
            "\n",
            "A1: Elon Musk stated that Tesla will not accept Bitcoin payments due to concerns about the environmental impact of Bitcoin mining and transactions, particularly the use of fossil fuels.\n",
            "\n",
            "Q2: How did the cryptocurrency market react to Elon Musk's tweets about Bitcoin and Dogecoin?\n",
            "\n",
            "A2: After Elon Musk's tweet about Tesla not accepting Bitcoin payments, the price of Bitcoin hit a two-month low. On the other hand, Dogecoin rallied by about 20 percent following Musk's statement that he was working with Dogecoin developers to improve its transaction efficiency.\n",
            "\n",
            "Q3: What did Elon Musk mean when he said that crypto can't drive a massive increase in fossil fuel use?\n",
            "\n",
            "A3: Elon Musk's statement suggests that he believes the rapid growth of cryptocurrencies, like Bitcoin, should not result in a significant increase in the use of fossil fuels, especially coal. He expressed concern about the environmental impact of such practices and emphasized the need for a more sustainable approach.\n"
          ]
        }
      ]
    },
    {
      "cell_type": "markdown",
      "source": [
        "## 2. Zeroshot JSON output with LLMs"
      ],
      "metadata": {
        "id": "DpL4wki4mE2R"
      }
    },
    {
      "cell_type": "code",
      "execution_count": null,
      "metadata": {
        "id": "TtgdQ9QBkItn"
      },
      "outputs": [],
      "source": [
        "prompt = f\"\"\"{text}\n",
        "--------------------------\n",
        "Generate {count} FAQs (frequently asked questions) from the above text. Generate a question and a corresponding answer\n",
        "Strictly output in JSON format as a list of dictionaries. Each dictionary should have two keys 'q' and 'a'.\"\"\"\n",
        "\n",
        "\n",
        "messages = [\n",
        "        {\"role\": \"system\", \"content\": \"You are an experienced FAQ creator.\"},\n",
        "        {\"role\": \"user\", \"content\": prompt}\n",
        "\n",
        "    ]\n",
        "\n",
        "chatgpt_payload = {\n",
        "    \"model\": \"gpt-3.5-turbo-16k\",\n",
        "    \"messages\": messages,\n",
        "    \"temperature\": 1.2,\n",
        "    \"max_tokens\": 300,\n",
        "    \"top_p\": 1,\n",
        "    \"stop\": [\"###\"]\n",
        "}"
      ]
    },
    {
      "cell_type": "code",
      "source": [
        "import requests\n",
        "response = requests.request(\"POST\", chatgpt_url, json=chatgpt_payload, headers=chatgpt_headers)\n",
        "response = response.json()\n",
        "print (response)\n",
        "print (response['choices'][0]['message']['content'])"
      ],
      "metadata": {
        "id": "4IM5nMExy00-",
        "colab": {
          "base_uri": "https://localhost:8080/"
        },
        "outputId": "9571cea1-e583-41a8-bb48-0c5499c7bfd9"
      },
      "execution_count": null,
      "outputs": [
        {
          "output_type": "stream",
          "name": "stdout",
          "text": [
            "{'id': 'chatcmpl-7jLYVB0DLWp1oYZzYDezCtDYz57a1', 'object': 'chat.completion', 'created': 1691041975, 'model': 'gpt-3.5-turbo-16k-0613', 'choices': [{'index': 0, 'message': {'role': 'assistant', 'content': '[\\n  {\\n    \"q\": \"What was Elon Musk\\'s reason for Tesla not accepting payments in Bitcoin?\",\\n    \"a\": \"Elon Musk cited environmental concerns, specifically the rapidly increasing use of fossil fuels in Bitcoin mining and transactions, as the reason for Tesla not accepting payments in Bitcoin.\"\\n  },\\n  {\\n    \"q\": \"What effect did Elon Musk\\'s tweets have on the cryptocurrency market?\",\\n    \"a\": \"Elon Musk\\'s tweets caused a two-month low for Bitcoin, while Dogecoin rallied by about 20 percent.\"\\n  },\\n  {\\n    \"q\": \"What is the stance of Elon Musk towards crypto and its impact on fossil fuel use?\",\\n    \"a\": \"Elon Musk strongly believes in cryptocurrency but has raised concerns about its potential massive increase in fossil fuel use, particularly coal.\"\\n  }\\n]'}, 'finish_reason': 'stop'}], 'usage': {'prompt_tokens': 320, 'completion_tokens': 168, 'total_tokens': 488}}\n",
            "[\n",
            "  {\n",
            "    \"q\": \"What was Elon Musk's reason for Tesla not accepting payments in Bitcoin?\",\n",
            "    \"a\": \"Elon Musk cited environmental concerns, specifically the rapidly increasing use of fossil fuels in Bitcoin mining and transactions, as the reason for Tesla not accepting payments in Bitcoin.\"\n",
            "  },\n",
            "  {\n",
            "    \"q\": \"What effect did Elon Musk's tweets have on the cryptocurrency market?\",\n",
            "    \"a\": \"Elon Musk's tweets caused a two-month low for Bitcoin, while Dogecoin rallied by about 20 percent.\"\n",
            "  },\n",
            "  {\n",
            "    \"q\": \"What is the stance of Elon Musk towards crypto and its impact on fossil fuel use?\",\n",
            "    \"a\": \"Elon Musk strongly believes in cryptocurrency but has raised concerns about its potential massive increase in fossil fuel use, particularly coal.\"\n",
            "  }\n",
            "]\n"
          ]
        }
      ]
    },
    {
      "cell_type": "markdown",
      "source": [
        "## 3. Zeroshot JSON output with LLMs - using Template suggestion"
      ],
      "metadata": {
        "id": "ewKirWU3mMEx"
      }
    },
    {
      "cell_type": "code",
      "source": [
        "import json\n",
        "\n",
        "prompt_prefix = f\"\"\"{text}\n",
        "--------------------------\n",
        "Generate {count} FAQs (frequently asked questions) from the above text. Generate a question and a corresponding answer\n",
        "Strictly output in JSON format. The JSON should have the following format:\"\"\"\n",
        "\n",
        "sample_json = [\n",
        "    { \"question\": \"...\", \"answer\": \"...\" },\n",
        "    { \"question\": \"...\", \"answer\": \"...\" }\n",
        "]\n",
        "\n",
        "prompt = prompt_prefix + json.dumps(sample_json)\n",
        "\n",
        "\n",
        "messages = [\n",
        "        {\"role\": \"system\", \"content\": \"You are an experienced FAQ creator.\"},\n",
        "        {\"role\": \"user\", \"content\": prompt}\n",
        "\n",
        "    ]\n",
        "\n",
        "chatgpt_payload = {\n",
        "    \"model\": \"gpt-3.5-turbo-16k\",\n",
        "    \"messages\": messages,\n",
        "    \"temperature\": 1.2,\n",
        "    \"max_tokens\": 300,\n",
        "    \"top_p\": 1,\n",
        "    \"stop\": [\"###\"]\n",
        "}"
      ],
      "metadata": {
        "id": "FM9aMbdNmohn"
      },
      "execution_count": null,
      "outputs": []
    },
    {
      "cell_type": "code",
      "source": [
        "import requests\n",
        "response = requests.request(\"POST\", chatgpt_url, json=chatgpt_payload, headers=chatgpt_headers)\n",
        "response = response.json()\n",
        "print (response)\n",
        "print (response['choices'][0]['message']['content'])"
      ],
      "metadata": {
        "id": "1uiAkKhszsa_",
        "colab": {
          "base_uri": "https://localhost:8080/"
        },
        "outputId": "c89bee48-a9dc-4290-9558-18e77ab00738"
      },
      "execution_count": null,
      "outputs": [
        {
          "output_type": "stream",
          "name": "stdout",
          "text": [
            "{'id': 'chatcmpl-7jLaT4UrpjJtfoRJFnigApetcxf5D', 'object': 'chat.completion', 'created': 1691042097, 'model': 'gpt-3.5-turbo-16k-0613', 'choices': [{'index': 0, 'message': {'role': 'assistant', 'content': '[{\"question\": \"Why did Elon Musk state that Tesla will not accept payments in Bitcoin?\", \"answer\": \"Elon Musk stated that Tesla will not accept payments in Bitcoin due to environmental concerns.\"},\\n{\"question\": \"What was Elon Musk\\'s recent tweet regarding Dogecoin?\", \"answer\": \"Elon Musk tweeted that he was working with Dogecoin developers to improve system transaction efficiency.\"},\\n{\"question\": \"What triggered a downward spiral for Bitcoin value according to Elon Musk\\'s tweet?\", \"answer\": \"According to Elon Musk\\'s tweet, the concern of rapidly increasing fossil fuel use for Bitcoin mining and transactions triggered a downward spiral for Bitcoin value.\"}]'}, 'finish_reason': 'stop'}], 'usage': {'prompt_tokens': 331, 'completion_tokens': 131, 'total_tokens': 462}}\n",
            "[{\"question\": \"Why did Elon Musk state that Tesla will not accept payments in Bitcoin?\", \"answer\": \"Elon Musk stated that Tesla will not accept payments in Bitcoin due to environmental concerns.\"},\n",
            "{\"question\": \"What was Elon Musk's recent tweet regarding Dogecoin?\", \"answer\": \"Elon Musk tweeted that he was working with Dogecoin developers to improve system transaction efficiency.\"},\n",
            "{\"question\": \"What triggered a downward spiral for Bitcoin value according to Elon Musk's tweet?\", \"answer\": \"According to Elon Musk's tweet, the concern of rapidly increasing fossil fuel use for Bitcoin mining and transactions triggered a downward spiral for Bitcoin value.\"}]\n"
          ]
        }
      ]
    },
    {
      "cell_type": "markdown",
      "source": [
        "## 4. Zeroshot JSON output with LLMs - using Python Type Hints or Typescript Types\n"
      ],
      "metadata": {
        "id": "7jYgW8MfmpKb"
      }
    },
    {
      "cell_type": "code",
      "source": [
        "import json\n",
        "\n",
        "prompt_prefix = f\"\"\"{text}\n",
        "--------------------------\n",
        "Generate {count} FAQs (frequently asked questions) from the above text. Generate a question and a corresponding answer\n",
        "Strictly output in JSON format. The JSON should have the following format:\"\"\"\n",
        "\n",
        "# typescript interface\n",
        "sample_interface = \"\"\"interface Response {\n",
        "     data: Array<{ question: string, answer: string }>;\n",
        "}\"\"\"\n",
        "\n",
        "# python type hints\n",
        "# sample_interface = \"\"\"\n",
        "# class QnA:\n",
        "#   question: str\n",
        "#   answer: str\n",
        "# class Response:\n",
        "#   data: List[QnA]\"\"\"\n",
        "\n",
        "prompt = prompt_prefix + sample_interface\n",
        "\n",
        "\n",
        "messages = [\n",
        "        {\"role\": \"system\", \"content\": \"You are an experienced FAQ creator.\"},\n",
        "        {\"role\": \"user\", \"content\": prompt}\n",
        "\n",
        "    ]\n",
        "\n",
        "chatgpt_payload = {\n",
        "    \"model\": \"gpt-3.5-turbo-16k\",\n",
        "    \"messages\": messages,\n",
        "    \"temperature\": 1.2,\n",
        "    \"max_tokens\": 300,\n",
        "    \"top_p\": 1,\n",
        "    \"stop\": [\"###\"]\n",
        "}"
      ],
      "metadata": {
        "id": "DVbBlFlbogg_"
      },
      "execution_count": null,
      "outputs": []
    },
    {
      "cell_type": "code",
      "source": [
        "import requests\n",
        "response = requests.request(\"POST\", chatgpt_url, json=chatgpt_payload, headers=chatgpt_headers)\n",
        "response = response.json()\n",
        "print (response)\n",
        "print (response['choices'][0]['message']['content'])"
      ],
      "metadata": {
        "id": "CD7v8KVr1m85",
        "colab": {
          "base_uri": "https://localhost:8080/"
        },
        "outputId": "3b936fd6-724d-4041-c6d0-31f375481b08"
      },
      "execution_count": null,
      "outputs": [
        {
          "output_type": "stream",
          "name": "stdout",
          "text": [
            "{'id': 'chatcmpl-7jLeozKqn69KP2IHe3AJDuss6Dxke', 'object': 'chat.completion', 'created': 1691042366, 'model': 'gpt-3.5-turbo-16k-0613', 'choices': [{'index': 0, 'message': {'role': 'assistant', 'content': '{\\n  \"data\": [\\n    {\\n      \"question\": \"Why did Elon Musk announce that Tesla will not accept payments in Bitcoin?\",\\n      \"answer\": \"Elon Musk announced that Tesla will not accept payments in Bitcoin due to environmental concerns, specifically the rapidly increasing use of fossil fuels for Bitcoin mining and transactions.\"\\n    },\\n    {\\n      \"question\": \"What did Elon Musk tweet about Dogecoin?\",\\n      \"answer\": \"Elon Musk tweeted that he was working with developers of Dogecoin to improve system transaction efficiency. He has been tweeting in support of Dogecoin more frequently than Bitcoin in recent months.\"\\n    },\\n    {\\n      \"question\": \"How did Elon Musk\\'s tweets impact the value of Bitcoin and Dogecoin?\",\\n      \"answer\": \"Elon Musk\\'s tweets had a significant impact on the digital currency market. After stating Tesla\\'s decision to not accept Bitcoin, Bitcoin hit a two-month low while Dogecoin rallied by about 20 percent.\"\\n    }\\n  ]\\n}'}, 'finish_reason': 'stop'}], 'usage': {'prompt_tokens': 337, 'completion_tokens': 202, 'total_tokens': 539}}\n",
            "{\n",
            "  \"data\": [\n",
            "    {\n",
            "      \"question\": \"Why did Elon Musk announce that Tesla will not accept payments in Bitcoin?\",\n",
            "      \"answer\": \"Elon Musk announced that Tesla will not accept payments in Bitcoin due to environmental concerns, specifically the rapidly increasing use of fossil fuels for Bitcoin mining and transactions.\"\n",
            "    },\n",
            "    {\n",
            "      \"question\": \"What did Elon Musk tweet about Dogecoin?\",\n",
            "      \"answer\": \"Elon Musk tweeted that he was working with developers of Dogecoin to improve system transaction efficiency. He has been tweeting in support of Dogecoin more frequently than Bitcoin in recent months.\"\n",
            "    },\n",
            "    {\n",
            "      \"question\": \"How did Elon Musk's tweets impact the value of Bitcoin and Dogecoin?\",\n",
            "      \"answer\": \"Elon Musk's tweets had a significant impact on the digital currency market. After stating Tesla's decision to not accept Bitcoin, Bitcoin hit a two-month low while Dogecoin rallied by about 20 percent.\"\n",
            "    }\n",
            "  ]\n",
            "}\n"
          ]
        }
      ]
    },
    {
      "cell_type": "markdown",
      "source": [
        "## 5. Fewshot JSON output with LLMs"
      ],
      "metadata": {
        "id": "qYoL69DNog7L"
      }
    },
    {
      "cell_type": "code",
      "source": [
        "import json\n",
        "\n",
        "prompt_prefix = f\"\"\"Generate the given count of FAQs (frequently asked questions) from the text. Generate a question, answer and corresponding context.\n",
        "Strictly output in JSON format.\"\"\"\n",
        "\n",
        "sample_1 = \"\"\"###\n",
        "Google is acquiring the data science community Kaggle.\n",
        "Sources tell us that Google is acquiring Kaggle, a platform that hosts data science and machine learning competitions.\n",
        "Details about the transaction remain somewhat vague , but given that Google is hosting its Cloud Next conference in San Francisco this week, the official announcement could come as early   as tomorrow.\n",
        "Reached by phone, Kaggle co-founder CEO Anthony Goldbloom declined to deny that the acquisition is happening.\n",
        "Google itself declined 'to comment on rumors'.\n",
        "Kaggle, which has about half a million data scientists on its platform, was founded by Goldbloom and Ben Hamner in 2010.\n",
        "The service got an early start and even though it has a few competitors like DrivenData, TopCoder, and HackerRank, it has managed to stay well ahead of them by focusing on its specific niche.\n",
        "The service is basically the de facto home for running data science and machine learning competitions.\n",
        "---\n",
        "Count: 2\n",
        "Output:\"\"\"\n",
        "\n",
        "sample1_output_json = [\n",
        "\n",
        "    { \"question\": \"When was Kaggle founded?\",\n",
        "     \"answer\": \"2010\",\n",
        "      \"context\": \"Kaggle, which has about half a million data scientists on its platform, was founded by Goldbloom and Ben Hamner in 2010.\"},\n",
        "\n",
        "    { \"question\": \"How many data scientists are on Kaggle's platform?\",\n",
        "     \"answer\": \"half a million\",\n",
        "      \"context\":\"Kaggle, which has about half a million data scientists on its platform, was founded by Goldbloom and Ben Hamner in 2010.\"}\n",
        "]\n",
        "\n",
        "inference_example_text = \"\"\"###\n",
        "{}\n",
        "---\n",
        "Count: {}\n",
        "Output:\n",
        "\"\"\".format(text, 3)\n",
        "\n",
        "prompt = prompt_prefix + sample_1+ json.dumps(sample1_output_json)+\"\\n\"+inference_example_text\n",
        "\n",
        "\n",
        "messages = [\n",
        "        {\"role\": \"system\", \"content\": \"You are an experienced FAQ creator.\"},\n",
        "        {\"role\": \"user\", \"content\": prompt}\n",
        "\n",
        "    ]\n",
        "\n",
        "chatgpt_payload = {\n",
        "    \"model\": \"gpt-3.5-turbo-16k\",\n",
        "    \"messages\": messages,\n",
        "    \"temperature\": 1.2,\n",
        "    \"max_tokens\": 300,\n",
        "    \"top_p\": 1,\n",
        "    \"stop\": [\"###\"]\n",
        "}"
      ],
      "metadata": {
        "id": "0xwI0QlMpGmh"
      },
      "execution_count": null,
      "outputs": []
    },
    {
      "cell_type": "code",
      "source": [
        "import requests\n",
        "response = requests.request(\"POST\", chatgpt_url, json=chatgpt_payload, headers=chatgpt_headers)\n",
        "response = response.json()\n",
        "print (response)\n",
        "print (response['choices'][0]['message']['content'])"
      ],
      "metadata": {
        "id": "shTs2B1bqLqc",
        "colab": {
          "base_uri": "https://localhost:8080/"
        },
        "outputId": "83d76eae-4d78-4a44-bd27-95ab919d18e6"
      },
      "execution_count": null,
      "outputs": [
        {
          "output_type": "stream",
          "name": "stdout",
          "text": [
            "{'id': 'chatcmpl-7jLkOYu6gbJ5KbdpcUAX3p5I5oEIA', 'object': 'chat.completion', 'created': 1691042712, 'model': 'gpt-3.5-turbo-16k-0613', 'choices': [{'index': 0, 'message': {'role': 'assistant', 'content': '[{\"question\": \"What is Elon Musk\\'s stance on accepting Bitcoin payments?\", \"answer\": \"He stated that Tesla will not accept payments in Bitcoin because of environmental concerns.\", \"context\": \"After saying that his electric vehicle-making company Tesla will not accept payments in Bitcoin because of environmental concerns, he tweeted that he was working with developers of Dogecoin...\"}, {\"question\": \"What was the impact of Musk\\'s tweets on the cryptocurrency market?\", \"answer\": \"Bitcoin hit a two-month low, while Dogecoin rallied by about 20 percent.\", \"context\": \"Following the two distinct statements from him, the world\\'s largest cryptocurrency hit a two-month low, while Dogecoin rallied by about 20 percent.\"}, {\"question\": \"What did Musk state in his tweet about fossil fuel use and Bitcoin?\", \"answer\": \"To be clear, I strongly believe in crypto, but it can\\'t drive a massive increase in fossil fuel use, especially coal.\", \"context\": \"A day later he again tweeted saying, To be clear, I strongly believe in crypto, but it can\\'t drive a massive increase in fossil fuel use, especially coal.\"}]'}, 'finish_reason': 'stop'}], 'usage': {'prompt_tokens': 619, 'completion_tokens': 234, 'total_tokens': 853}}\n",
            "[{\"question\": \"What is Elon Musk's stance on accepting Bitcoin payments?\", \"answer\": \"He stated that Tesla will not accept payments in Bitcoin because of environmental concerns.\", \"context\": \"After saying that his electric vehicle-making company Tesla will not accept payments in Bitcoin because of environmental concerns, he tweeted that he was working with developers of Dogecoin...\"}, {\"question\": \"What was the impact of Musk's tweets on the cryptocurrency market?\", \"answer\": \"Bitcoin hit a two-month low, while Dogecoin rallied by about 20 percent.\", \"context\": \"Following the two distinct statements from him, the world's largest cryptocurrency hit a two-month low, while Dogecoin rallied by about 20 percent.\"}, {\"question\": \"What did Musk state in his tweet about fossil fuel use and Bitcoin?\", \"answer\": \"To be clear, I strongly believe in crypto, but it can't drive a massive increase in fossil fuel use, especially coal.\", \"context\": \"A day later he again tweeted saying, To be clear, I strongly believe in crypto, but it can't drive a massive increase in fossil fuel use, especially coal.\"}]\n"
          ]
        }
      ]
    },
    {
      "cell_type": "code",
      "source": [
        "import json\n",
        "output = json.loads(response['choices'][0]['message']['content'])\n",
        "for each in output:\n",
        "  print (each[\"question\"])\n",
        "  print (each[\"answer\"])\n",
        "  print (each[\"context\"])\n",
        "  print (\"\\n\")"
      ],
      "metadata": {
        "id": "s79JcRSQrz_u",
        "colab": {
          "base_uri": "https://localhost:8080/"
        },
        "outputId": "84e8f337-5b5e-4667-83df-275cd1481023"
      },
      "execution_count": null,
      "outputs": [
        {
          "output_type": "stream",
          "name": "stdout",
          "text": [
            "What is Elon Musk's stance on accepting Bitcoin payments?\n",
            "He stated that Tesla will not accept payments in Bitcoin because of environmental concerns.\n",
            "After saying that his electric vehicle-making company Tesla will not accept payments in Bitcoin because of environmental concerns, he tweeted that he was working with developers of Dogecoin...\n",
            "\n",
            "\n",
            "What was the impact of Musk's tweets on the cryptocurrency market?\n",
            "Bitcoin hit a two-month low, while Dogecoin rallied by about 20 percent.\n",
            "Following the two distinct statements from him, the world's largest cryptocurrency hit a two-month low, while Dogecoin rallied by about 20 percent.\n",
            "\n",
            "\n",
            "What did Musk state in his tweet about fossil fuel use and Bitcoin?\n",
            "To be clear, I strongly believe in crypto, but it can't drive a massive increase in fossil fuel use, especially coal.\n",
            "A day later he again tweeted saying, To be clear, I strongly believe in crypto, but it can't drive a massive increase in fossil fuel use, especially coal.\n",
            "\n",
            "\n"
          ]
        }
      ]
    },
    {
      "cell_type": "markdown",
      "source": [
        "##JSON output correction Tips"
      ],
      "metadata": {
        "id": "9F_-l3PZpHS4"
      }
    },
    {
      "cell_type": "markdown",
      "source": [
        "Pass the output JSON if json.loads(output) fails to another JSON corrector prompt. And end missing '}' should not cost a full rerun."
      ],
      "metadata": {
        "id": "J3hQTvlC3laR"
      }
    }
  ]
}