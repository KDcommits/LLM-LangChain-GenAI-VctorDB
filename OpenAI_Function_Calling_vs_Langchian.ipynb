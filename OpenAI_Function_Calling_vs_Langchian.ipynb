{
  "nbformat": 4,
  "nbformat_minor": 0,
  "metadata": {
    "colab": {
      "provenance": []
    },
    "kernelspec": {
      "name": "python3",
      "display_name": "Python 3"
    },
    "language_info": {
      "name": "python"
    }
  },
  "cells": [
    {
      "cell_type": "code",
      "execution_count": null,
      "metadata": {
        "colab": {
          "base_uri": "https://localhost:8080/"
        },
        "id": "eusArIGgNFev",
        "outputId": "cc3b0345-8c02-47b2-e92d-ea8b19cc5464"
      },
      "outputs": [
        {
          "output_type": "stream",
          "name": "stdout",
          "text": [
            "Collecting openai\n",
            "  Downloading openai-0.27.8-py3-none-any.whl (73 kB)\n",
            "\u001b[2K     \u001b[90m━━━━━━━━━━━━━━━━━━━━━━━━━━━━━━━━━━━━━━━━\u001b[0m \u001b[32m73.6/73.6 kB\u001b[0m \u001b[31m3.7 MB/s\u001b[0m eta \u001b[36m0:00:00\u001b[0m\n",
            "\u001b[?25hCollecting langchain\n",
            "  Downloading langchain-0.0.226-py3-none-any.whl (1.2 MB)\n",
            "\u001b[2K     \u001b[90m━━━━━━━━━━━━━━━━━━━━━━━━━━━━━━━━━━━━━━━━\u001b[0m \u001b[32m1.2/1.2 MB\u001b[0m \u001b[31m28.2 MB/s\u001b[0m eta \u001b[36m0:00:00\u001b[0m\n",
            "\u001b[?25hRequirement already satisfied: requests>=2.20 in /usr/local/lib/python3.10/dist-packages (from openai) (2.27.1)\n",
            "Requirement already satisfied: tqdm in /usr/local/lib/python3.10/dist-packages (from openai) (4.65.0)\n",
            "Requirement already satisfied: aiohttp in /usr/local/lib/python3.10/dist-packages (from openai) (3.8.4)\n",
            "Requirement already satisfied: PyYAML>=5.4.1 in /usr/local/lib/python3.10/dist-packages (from langchain) (6.0)\n",
            "Requirement already satisfied: SQLAlchemy<3,>=1.4 in /usr/local/lib/python3.10/dist-packages (from langchain) (2.0.16)\n",
            "Requirement already satisfied: async-timeout<5.0.0,>=4.0.0 in /usr/local/lib/python3.10/dist-packages (from langchain) (4.0.2)\n",
            "Collecting dataclasses-json<0.6.0,>=0.5.7 (from langchain)\n",
            "  Downloading dataclasses_json-0.5.9-py3-none-any.whl (26 kB)\n",
            "Collecting langchainplus-sdk<0.0.21,>=0.0.20 (from langchain)\n",
            "  Downloading langchainplus_sdk-0.0.20-py3-none-any.whl (25 kB)\n",
            "Requirement already satisfied: numexpr<3.0.0,>=2.8.4 in /usr/local/lib/python3.10/dist-packages (from langchain) (2.8.4)\n",
            "Requirement already satisfied: numpy<2,>=1 in /usr/local/lib/python3.10/dist-packages (from langchain) (1.22.4)\n",
            "Collecting openapi-schema-pydantic<2.0,>=1.2 (from langchain)\n",
            "  Downloading openapi_schema_pydantic-1.2.4-py3-none-any.whl (90 kB)\n",
            "\u001b[2K     \u001b[90m━━━━━━━━━━━━━━━━━━━━━━━━━━━━━━━━━━━━━━━━\u001b[0m \u001b[32m90.0/90.0 kB\u001b[0m \u001b[31m9.0 MB/s\u001b[0m eta \u001b[36m0:00:00\u001b[0m\n",
            "\u001b[?25hRequirement already satisfied: pydantic<2,>=1 in /usr/local/lib/python3.10/dist-packages (from langchain) (1.10.9)\n",
            "Requirement already satisfied: tenacity<9.0.0,>=8.1.0 in /usr/local/lib/python3.10/dist-packages (from langchain) (8.2.2)\n",
            "Requirement already satisfied: attrs>=17.3.0 in /usr/local/lib/python3.10/dist-packages (from aiohttp->openai) (23.1.0)\n",
            "Requirement already satisfied: charset-normalizer<4.0,>=2.0 in /usr/local/lib/python3.10/dist-packages (from aiohttp->openai) (2.0.12)\n",
            "Requirement already satisfied: multidict<7.0,>=4.5 in /usr/local/lib/python3.10/dist-packages (from aiohttp->openai) (6.0.4)\n",
            "Requirement already satisfied: yarl<2.0,>=1.0 in /usr/local/lib/python3.10/dist-packages (from aiohttp->openai) (1.9.2)\n",
            "Requirement already satisfied: frozenlist>=1.1.1 in /usr/local/lib/python3.10/dist-packages (from aiohttp->openai) (1.3.3)\n",
            "Requirement already satisfied: aiosignal>=1.1.2 in /usr/local/lib/python3.10/dist-packages (from aiohttp->openai) (1.3.1)\n",
            "Collecting marshmallow<4.0.0,>=3.3.0 (from dataclasses-json<0.6.0,>=0.5.7->langchain)\n",
            "  Downloading marshmallow-3.19.0-py3-none-any.whl (49 kB)\n",
            "\u001b[2K     \u001b[90m━━━━━━━━━━━━━━━━━━━━━━━━━━━━━━━━━━━━━━━━\u001b[0m \u001b[32m49.1/49.1 kB\u001b[0m \u001b[31m5.7 MB/s\u001b[0m eta \u001b[36m0:00:00\u001b[0m\n",
            "\u001b[?25hCollecting marshmallow-enum<2.0.0,>=1.5.1 (from dataclasses-json<0.6.0,>=0.5.7->langchain)\n",
            "  Downloading marshmallow_enum-1.5.1-py2.py3-none-any.whl (4.2 kB)\n",
            "Collecting typing-inspect>=0.4.0 (from dataclasses-json<0.6.0,>=0.5.7->langchain)\n",
            "  Downloading typing_inspect-0.9.0-py3-none-any.whl (8.8 kB)\n",
            "Requirement already satisfied: typing-extensions>=4.2.0 in /usr/local/lib/python3.10/dist-packages (from pydantic<2,>=1->langchain) (4.6.3)\n",
            "Requirement already satisfied: urllib3<1.27,>=1.21.1 in /usr/local/lib/python3.10/dist-packages (from requests>=2.20->openai) (1.26.16)\n",
            "Requirement already satisfied: certifi>=2017.4.17 in /usr/local/lib/python3.10/dist-packages (from requests>=2.20->openai) (2023.5.7)\n",
            "Requirement already satisfied: idna<4,>=2.5 in /usr/local/lib/python3.10/dist-packages (from requests>=2.20->openai) (3.4)\n",
            "Requirement already satisfied: greenlet!=0.4.17 in /usr/local/lib/python3.10/dist-packages (from SQLAlchemy<3,>=1.4->langchain) (2.0.2)\n",
            "Requirement already satisfied: packaging>=17.0 in /usr/local/lib/python3.10/dist-packages (from marshmallow<4.0.0,>=3.3.0->dataclasses-json<0.6.0,>=0.5.7->langchain) (23.1)\n",
            "Collecting mypy-extensions>=0.3.0 (from typing-inspect>=0.4.0->dataclasses-json<0.6.0,>=0.5.7->langchain)\n",
            "  Downloading mypy_extensions-1.0.0-py3-none-any.whl (4.7 kB)\n"
          ]
        }
      ],
      "source": [
        "!pip install openai langchain"
      ]
    },
    {
      "cell_type": "markdown",
      "source": [
        "# Setup Chinook Database"
      ],
      "metadata": {
        "id": "9FKNmGD7RTGD"
      }
    },
    {
      "cell_type": "code",
      "source": [
        "!wget https://www.sqlitetutorial.net/wp-content/uploads/2018/03/chinook.zip"
      ],
      "metadata": {
        "colab": {
          "base_uri": "https://localhost:8080/"
        },
        "id": "uPXqFX7aSP0i",
        "outputId": "5cb6533a-a60e-4905-ac51-29c8a6f22587"
      },
      "execution_count": null,
      "outputs": [
        {
          "output_type": "stream",
          "name": "stdout",
          "text": [
            "--2023-06-16 08:09:23--  https://www.sqlitetutorial.net/wp-content/uploads/2018/03/chinook.zip\n",
            "Resolving www.sqlitetutorial.net (www.sqlitetutorial.net)... 151.139.128.10\n",
            "Connecting to www.sqlitetutorial.net (www.sqlitetutorial.net)|151.139.128.10|:443... connected.\n",
            "HTTP request sent, awaiting response... 200 OK\n",
            "Length: 305596 (298K) [application/zip]\n",
            "Saving to: ‘chinook.zip’\n",
            "\n",
            "\rchinook.zip           0%[                    ]       0  --.-KB/s               \rchinook.zip         100%[===================>] 298.43K  --.-KB/s    in 0.02s   \n",
            "\n",
            "2023-06-16 08:09:23 (18.0 MB/s) - ‘chinook.zip’ saved [305596/305596]\n",
            "\n"
          ]
        }
      ]
    },
    {
      "cell_type": "code",
      "source": [
        "!unzip chinook.zip"
      ],
      "metadata": {
        "colab": {
          "base_uri": "https://localhost:8080/"
        },
        "id": "isRWI6nlSRm4",
        "outputId": "07c8d681-3035-44c8-99c8-32ae8dd232fc"
      },
      "execution_count": null,
      "outputs": [
        {
          "output_type": "stream",
          "name": "stdout",
          "text": [
            "Archive:  chinook.zip\n",
            "  inflating: chinook.db              \n"
          ]
        }
      ]
    },
    {
      "cell_type": "markdown",
      "source": [
        "# OpenAI Function Calling"
      ],
      "metadata": {
        "id": "TSzq4j0sSmkc"
      }
    },
    {
      "cell_type": "code",
      "source": [
        "import json\n",
        "import openai\n",
        "import sqlite3\n",
        "openai.api_key = \"YOUR_API_KEY\"\n",
        "\n",
        "conn = sqlite3.connect(\"chinook.db\")\n",
        "print(\"Opened database successfully\")\n",
        "GPT_MODEL = \"gpt-3.5-turbo-0613\""
      ],
      "metadata": {
        "colab": {
          "base_uri": "https://localhost:8080/"
        },
        "id": "gGtp1N8mSmGc",
        "outputId": "4a614ea7-4d98-44b2-e8e3-234ad9fb0651"
      },
      "execution_count": null,
      "outputs": [
        {
          "output_type": "stream",
          "name": "stdout",
          "text": [
            "Opened database successfully\n"
          ]
        }
      ]
    },
    {
      "cell_type": "markdown",
      "source": [
        "### Getting Table Meta"
      ],
      "metadata": {
        "id": "GoYtx8lXubMB"
      }
    },
    {
      "cell_type": "code",
      "source": [
        "def get_table_names(conn):\n",
        "    \"\"\"Return a list of table names.\"\"\"\n",
        "    table_names = []\n",
        "    tables = conn.execute(\"SELECT name FROM sqlite_master WHERE type='table';\")\n",
        "    for table in tables.fetchall():\n",
        "        table_names.append(table[0])\n",
        "    return table_names\n",
        "\n",
        "\n",
        "def get_column_names(conn, table_name):\n",
        "    \"\"\"Return a list of column names.\"\"\"\n",
        "    column_names = []\n",
        "    columns = conn.execute(f\"PRAGMA table_info('{table_name}');\").fetchall()\n",
        "    for col in columns:\n",
        "        column_names.append(col[1])\n",
        "    return column_names\n",
        "\n",
        "\n",
        "def get_database_info(conn):\n",
        "    \"\"\"Return a list of dicts containing the table name and columns for each table in the database.\"\"\"\n",
        "    table_dicts = []\n",
        "    for table_name in get_table_names(conn):\n",
        "        columns_names = get_column_names(conn, table_name)\n",
        "        table_dicts.append({\"table_name\": table_name, \"column_names\": columns_names})\n",
        "    return table_dicts"
      ],
      "metadata": {
        "id": "yyzOlm2BSxmE"
      },
      "execution_count": null,
      "outputs": []
    },
    {
      "cell_type": "code",
      "source": [
        "database_schema_dict = get_database_info(conn)\n",
        "database_schema_string = \"\\n\".join(\n",
        "    [\n",
        "        f\"Table: {table['table_name']}\\nColumns: {', '.join(table['column_names'])}\"\n",
        "        for table in database_schema_dict\n",
        "    ]\n",
        ")"
      ],
      "metadata": {
        "id": "ly6coLMxS3NW"
      },
      "execution_count": null,
      "outputs": []
    },
    {
      "cell_type": "markdown",
      "source": [
        "### Creating Funciton Descriptions"
      ],
      "metadata": {
        "id": "6BOQE6PaQGTA"
      }
    },
    {
      "cell_type": "code",
      "source": [
        "functions = [\n",
        "    {\n",
        "        \"name\": \"ask_database\",\n",
        "        \"description\": \"Use this function to answer user questions about music. Output should be a fully formed SQL query.\",\n",
        "        \"parameters\": {\n",
        "            \"type\": \"object\",\n",
        "            \"properties\": {\n",
        "                \"query\": {\n",
        "                    \"type\": \"string\",\n",
        "                    \"description\": f\"\"\"\n",
        "                            SQL query extracting info to answer the user's question.\n",
        "                            SQL should be written using this database schema:\n",
        "                            {database_schema_string}\n",
        "                            The query should be returned in plain text, not in JSON.\n",
        "                            Do not use new lines chatacthers inside the query.\n",
        "                            \"\"\",\n",
        "                }\n",
        "            },\n",
        "            \"required\": [\"query\"],\n",
        "        },\n",
        "    }\n",
        "]"
      ],
      "metadata": {
        "id": "PVL7A1V3S49Z"
      },
      "execution_count": null,
      "outputs": []
    },
    {
      "cell_type": "markdown",
      "source": [
        "## Executing SQL queries"
      ],
      "metadata": {
        "id": "yAqwPjyoWyNl"
      }
    },
    {
      "cell_type": "code",
      "source": [
        "def ask_database(conn, query):\n",
        "    \"\"\"Function to query SQLite database with a provided SQL query.\"\"\"\n",
        "    try:\n",
        "        results = str(conn.execute(query).fetchall())\n",
        "    except Exception as e:\n",
        "        results = f\"query failed with error: {e}\"\n",
        "    return results\n",
        "\n",
        "def execute_function_call(message):\n",
        "    if message[\"function_call\"][\"name\"] == \"ask_database\":\n",
        "        query = eval(message[\"function_call\"][\"arguments\"])[\"query\"]\n",
        "        results = ask_database(conn, query)\n",
        "    else:\n",
        "        results = f\"Error: function {message['function_call']['name']} does not exist\"\n",
        "    return results"
      ],
      "metadata": {
        "id": "U2fjG3S0WxlP"
      },
      "execution_count": null,
      "outputs": []
    },
    {
      "cell_type": "markdown",
      "source": [
        "## Function Calling SQL Chain Implementation\n",
        "This is leterally all it takes to make a \"SQLDatabaseChain\" from Lanchain with function calling"
      ],
      "metadata": {
        "id": "qRg0CCoSW3z6"
      }
    },
    {
      "cell_type": "code",
      "source": [
        "def openai_functions_chain(query):\n",
        "  messages = []\n",
        "  messages.append({\"role\": \"system\", \"content\": \"Answer user questions by generating SQL queries against the Chinook Music Database.\"})\n",
        "  messages.append({\"role\": \"user\", \"content\": query})\n",
        "  while True:\n",
        "    assistant_message = openai.ChatCompletion.create(\n",
        "        temperature=0,\n",
        "        model=GPT_MODEL,\n",
        "        messages=messages,\n",
        "        functions=functions,\n",
        "        function_call=\"auto\",\n",
        "    )[\"choices\"][0][\"message\"]\n",
        "    messages.append(assistant_message)\n",
        "\n",
        "    if assistant_message.get(\"function_call\"):\n",
        "      print(\"Executing function: \", assistant_message[\"function_call\"])\n",
        "      results = execute_function_call(assistant_message)\n",
        "      messages.append({\"role\": \"function\", \"name\": assistant_message[\"function_call\"][\"name\"], \"content\": results})\n",
        "    else:\n",
        "      break\n",
        "\n",
        "  return assistant_message['content']"
      ],
      "metadata": {
        "id": "mNCJwxLZjZwa"
      },
      "execution_count": null,
      "outputs": []
    },
    {
      "cell_type": "markdown",
      "source": [
        "# Langchain Implementation"
      ],
      "metadata": {
        "id": "KDveT-OvXpNY"
      }
    },
    {
      "cell_type": "code",
      "source": [
        "from langchain.agents import create_sql_agent\n",
        "from langchain.agents.agent_toolkits import SQLDatabaseToolkit\n",
        "from langchain.sql_database import SQLDatabase\n",
        "from langchain.chat_models import ChatOpenAI\n",
        "from langchain.agents import AgentExecutor\n",
        "from sqlalchemy import create_engine\n",
        "from sqlalchemy.orm import sessionmaker\n",
        "from langchain.agents import AgentType\n",
        "from langchain import SQLDatabaseChain"
      ],
      "metadata": {
        "id": "aeAVJaPMXrIE"
      },
      "execution_count": null,
      "outputs": []
    },
    {
      "cell_type": "code",
      "source": [
        "db = SQLDatabase.from_uri(\"sqlite:///chinook.db\")\n",
        "llm = ChatOpenAI(temperature=0, openai_api_key=openai.api_key)\n",
        "db_chain = SQLDatabaseChain.from_llm(llm, db, verbose=True, top_k=3)"
      ],
      "metadata": {
        "id": "ZCOWryUGXuEt"
      },
      "execution_count": null,
      "outputs": []
    },
    {
      "cell_type": "markdown",
      "source": [
        "# Langchain vs Function Calling"
      ],
      "metadata": {
        "id": "lVZHhRGTjII7"
      }
    },
    {
      "cell_type": "markdown",
      "source": [
        "### **Query:** Identify the most popular genre among customers based on the number of tracks sold in that genre. (Easy)\n",
        "Both were able to answer."
      ],
      "metadata": {
        "id": "1kdoB01qluEH"
      }
    },
    {
      "cell_type": "code",
      "source": [
        "query = \"Identify the most popular genre among customers based on the number of tracks sold in that genre.\""
      ],
      "metadata": {
        "id": "0U0pFlp5jYZN"
      },
      "execution_count": null,
      "outputs": []
    },
    {
      "cell_type": "code",
      "source": [
        "print(\"Response: \", db_chain.run(query))"
      ],
      "metadata": {
        "colab": {
          "base_uri": "https://localhost:8080/"
        },
        "id": "g7P3fvUTjHzP",
        "outputId": "a51bdb02-9f5f-4257-9410-2ddeea726d81"
      },
      "execution_count": null,
      "outputs": [
        {
          "output_type": "stream",
          "name": "stdout",
          "text": [
            "\n",
            "\n",
            "\u001b[1m> Entering new  chain...\u001b[0m\n",
            "Identify the most popular genre among customers based on the number of tracks sold in that genre.\n",
            "SQLQuery:\u001b[32;1m\u001b[1;3mSELECT genres.Name, SUM(invoice_items.Quantity) AS total_sold\n",
            "FROM genres\n",
            "JOIN tracks ON genres.GenreId = tracks.GenreId\n",
            "JOIN invoice_items ON tracks.TrackId = invoice_items.TrackId\n",
            "GROUP BY genres.Name\n",
            "ORDER BY total_sold DESC\n",
            "LIMIT 1\u001b[0m\n",
            "SQLResult: \u001b[33;1m\u001b[1;3m[('Rock', 835)]\u001b[0m\n",
            "Answer:\u001b[32;1m\u001b[1;3mThe most popular genre among customers based on the number of tracks sold in that genre is Rock, with a total of 835 tracks sold.\u001b[0m\n",
            "\u001b[1m> Finished chain.\u001b[0m\n",
            "Response:  The most popular genre among customers based on the number of tracks sold in that genre is Rock, with a total of 835 tracks sold.\n"
          ]
        }
      ]
    },
    {
      "cell_type": "code",
      "source": [
        "print(\"Response: \", openai_functions_chain(query))"
      ],
      "metadata": {
        "colab": {
          "base_uri": "https://localhost:8080/"
        },
        "id": "hC9InmzBlUUU",
        "outputId": "059c51d9-310f-4ce8-e3fd-1357a998ae4b"
      },
      "execution_count": null,
      "outputs": [
        {
          "output_type": "stream",
          "name": "stdout",
          "text": [
            "Executing function:  {\n",
            "  \"name\": \"ask_database\",\n",
            "  \"arguments\": \"{\\n  \\\"query\\\": \\\"SELECT g.Name AS Genre, COUNT(*) AS TracksSold FROM genres g JOIN tracks t ON g.GenreId = t.GenreId JOIN invoice_items ii ON t.TrackId = ii.TrackId GROUP BY g.GenreId ORDER BY TracksSold DESC LIMIT 1;\\\"\\n}\"\n",
            "}\n",
            "Response:  The most popular genre among customers based on the number of tracks sold is Rock, with a total of 835 tracks sold.\n"
          ]
        }
      ]
    },
    {
      "cell_type": "markdown",
      "source": [
        "### **Query:** Find the customer who has spent the most in each genre and display their total spending for each genre. (Medium)\n",
        "Langchain implemetation tells you to look at the query instead of providing clear interpretation of the result."
      ],
      "metadata": {
        "id": "4tV0szVlmTLp"
      }
    },
    {
      "cell_type": "code",
      "source": [
        "query = \"Find the customer who has spent the most in each genre and display their total spending for each genre.\""
      ],
      "metadata": {
        "id": "wupT-9welwqn"
      },
      "execution_count": null,
      "outputs": []
    },
    {
      "cell_type": "code",
      "source": [
        "print(\"Response: \", db_chain.run(query))"
      ],
      "metadata": {
        "colab": {
          "base_uri": "https://localhost:8080/"
        },
        "id": "cOxRsraal4mc",
        "outputId": "b5d80c56-f78d-4377-9828-82beb4c86eb4"
      },
      "execution_count": null,
      "outputs": [
        {
          "output_type": "stream",
          "name": "stdout",
          "text": [
            "\n",
            "\n",
            "\u001b[1m> Entering new  chain...\u001b[0m\n",
            "Find the customer who has spent the most in each genre and display their total spending for each genre.\n",
            "SQLQuery:\u001b[32;1m\u001b[1;3mSELECT g.Name AS Genre, c.FirstName || ' ' || c.LastName AS Customer, SUM(i.Total) AS TotalSpent\n",
            "FROM invoices i\n",
            "JOIN customers c ON i.CustomerId = c.CustomerId\n",
            "JOIN invoice_items ii ON i.InvoiceId = ii.InvoiceId\n",
            "JOIN tracks t ON ii.TrackId = t.TrackId\n",
            "JOIN genres g ON t.GenreId = g.GenreId\n",
            "GROUP BY g.Name, c.CustomerId\n",
            "HAVING SUM(i.Total) = (\n",
            "  SELECT MAX(TotalSpent)\n",
            "  FROM (\n",
            "    SELECT g.Name AS Genre, c.FirstName || ' ' || c.LastName AS Customer, SUM(i.Total) AS TotalSpent\n",
            "    FROM invoices i\n",
            "    JOIN customers c ON i.CustomerId = c.CustomerId\n",
            "    JOIN invoice_items ii ON i.InvoiceId = ii.InvoiceId\n",
            "    JOIN tracks t ON ii.TrackId = t.TrackId\n",
            "    JOIN genres g ON t.GenreId = g.GenreId\n",
            "    GROUP BY g.Name, c.CustomerId\n",
            "  ) AS subquery\n",
            "  WHERE subquery.Genre = g.Name\n",
            ")\n",
            "ORDER BY g.Name ASC\u001b[0m\n",
            "SQLResult: \u001b[33;1m\u001b[1;3m[('Alternative', 'Frank Ralston', 79.3), ('Alternative & Punk', 'Daan Peeters', 119.78999999999995), ('Blues', 'Leonie Köhler', 47.519999999999996), ('Bossa Nova', 'Dan Miller', 27.72), ('Classical', 'Bjørn Hansen', 79.3), ('Comedy', 'Frank Ralston', 47.7), ('Drama', 'Richard Cunningham', 143.16), ('Easy Listening', 'Jack Smith', 41.58), ('Easy Listening', 'Luis Rojas', 41.58), ('Electronica/Dance', 'Isabelle Mercier', 33.72), ('Heavy Metal', 'Frank Harris', 41.58), ('Heavy Metal', 'Hannah Schneider', 41.58), ('Heavy Metal', 'Mark Taylor', 41.58), ('Hip Hop/Rap', 'Isabelle Mercier', 33.72), ('Jazz', 'Dominique Lefebvre', 83.16), ('Latin', 'Emma Jones', 175.23000000000002), ('Metal', 'Wyatt Girard', 149.48999999999998), ('Pop', 'João Fernandes', 43.64), ('R&B/Soul', 'Ladislav Kovács', 44.55), ('Reggae', 'Kathy Chase', 55.44), ('Rock', 'Eduardo Martins', 244.5300000000001), ('Rock And Roll', 'François Tremblay', 27.72), ('Rock And Roll', 'Heather Leacock', 27.72), ('Sci Fi & Fantasy', 'Julia Barnett', 47.76), ('Science Fiction', 'Luis Rojas', 35.82), ('Soundtrack', 'Marc Dubois', 54.44999999999999), ('TV Shows', 'Helena Holý', 155.16000000000003), ('World', 'Roberto Almeida', 27.72), ('World', 'Jennifer Peterson', 27.72), ('World', 'Martha Silk', 27.72), ('World', 'João Fernandes', 27.72)]\u001b[0m\n",
            "Answer:\u001b[32;1m\u001b[1;3mThe customer who has spent the most in each genre and their total spending for each genre are displayed in the SQLResult. For example, the customer who has spent the most in the Rock genre is Eduardo Martins with a total spending of 244.53.\u001b[0m\n",
            "\u001b[1m> Finished chain.\u001b[0m\n",
            "Response:  The customer who has spent the most in each genre and their total spending for each genre are displayed in the SQLResult. For example, the customer who has spent the most in the Rock genre is Eduardo Martins with a total spending of 244.53.\n"
          ]
        }
      ]
    },
    {
      "cell_type": "code",
      "source": [
        "print(\"Response: \", openai_functions_chain(query))"
      ],
      "metadata": {
        "colab": {
          "base_uri": "https://localhost:8080/"
        },
        "id": "oCGjtxWxl5ia",
        "outputId": "49e46fa2-513d-4aff-cc08-aa1150e4f451"
      },
      "execution_count": null,
      "outputs": [
        {
          "output_type": "stream",
          "name": "stdout",
          "text": [
            "Executing function:  {\n",
            "  \"name\": \"ask_database\",\n",
            "  \"arguments\": \"{\\n  \\\"query\\\": \\\"SELECT g.Name AS Genre, c.FirstName || ' ' || c.LastName AS Customer, SUM(i.Total) AS TotalSpending FROM genres g JOIN tracks t ON g.GenreId = t.GenreId JOIN invoice_items ii ON t.TrackId = ii.TrackId JOIN invoices i ON ii.InvoiceId = i.InvoiceId JOIN customers c ON i.CustomerId = c.CustomerId GROUP BY g.Name, c.CustomerId HAVING SUM(i.Total) = (SELECT MAX(TotalSpending) FROM (SELECT g.Name AS Genre, c.FirstName || ' ' || c.LastName AS Customer, SUM(i.Total) AS TotalSpending FROM genres g JOIN tracks t ON g.GenreId = t.GenreId JOIN invoice_items ii ON t.TrackId = ii.TrackId JOIN invoices i ON ii.InvoiceId = i.InvoiceId JOIN customers c ON i.CustomerId = c.CustomerId GROUP BY g.Name, c.CustomerId) AS temp WHERE temp.Genre = g.Name)\\\"\\n}\"\n",
            "}\n",
            "Response:  The customer who has spent the most in each genre and their total spending for each genre are as follows:\n",
            "\n",
            "- Genre: Alternative, Customer: Frank Ralston, Total Spending: $79.30\n",
            "- Genre: Alternative & Punk, Customer: Daan Peeters, Total Spending: $119.79\n",
            "- Genre: Blues, Customer: Leonie Köhler, Total Spending: $47.52\n",
            "- Genre: Bossa Nova, Customer: Dan Miller, Total Spending: $27.72\n",
            "- Genre: Classical, Customer: Bjørn Hansen, Total Spending: $79.30\n",
            "- Genre: Comedy, Customer: Frank Ralston, Total Spending: $47.70\n",
            "- Genre: Drama, Customer: Richard Cunningham, Total Spending: $143.16\n",
            "- Genre: Easy Listening, Customer: Jack Smith, Total Spending: $41.58\n",
            "- Genre: Easy Listening, Customer: Luis Rojas, Total Spending: $41.58\n",
            "- Genre: Electronica/Dance, Customer: Isabelle Mercier, Total Spending: $33.72\n",
            "- Genre: Heavy Metal, Customer: Frank Harris, Total Spending: $41.58\n",
            "- Genre: Heavy Metal, Customer: Hannah Schneider, Total Spending: $41.58\n",
            "- Genre: Heavy Metal, Customer: Mark Taylor, Total Spending: $41.58\n",
            "- Genre: Hip Hop/Rap, Customer: Isabelle Mercier, Total Spending: $33.72\n",
            "- Genre: Jazz, Customer: Dominique Lefebvre, Total Spending: $83.16\n",
            "- Genre: Latin, Customer: Emma Jones, Total Spending: $175.23\n",
            "- Genre: Metal, Customer: Wyatt Girard, Total Spending: $149.49\n",
            "- Genre: Pop, Customer: João Fernandes, Total Spending: $43.64\n",
            "- Genre: R&B/Soul, Customer: Ladislav Kovács, Total Spending: $44.55\n",
            "- Genre: Reggae, Customer: Kathy Chase, Total Spending: $55.44\n",
            "- Genre: Rock, Customer: Eduardo Martins, Total Spending: $244.53\n",
            "- Genre: Rock And Roll, Customer: François Tremblay, Total Spending: $27.72\n",
            "- Genre: Rock And Roll, Customer: Heather Leacock, Total Spending: $27.72\n",
            "- Genre: Sci Fi & Fantasy, Customer: Julia Barnett, Total Spending: $47.76\n",
            "- Genre: Science Fiction, Customer: Luis Rojas, Total Spending: $35.82\n",
            "- Genre: Soundtrack, Customer: Marc Dubois, Total Spending: $54.45\n",
            "- Genre: TV Shows, Customer: Helena Holý, Total Spending: $155.16\n",
            "- Genre: World, Customer: Roberto Almeida, Total Spending: $27.72\n",
            "- Genre: World, Customer: Jennifer Peterson, Total Spending: $27.72\n",
            "- Genre: World, Customer: Martha Silk, Total Spending: $27.72\n",
            "- Genre: World, Customer: João Fernandes, Total Spending: $27.72\n"
          ]
        }
      ]
    },
    {
      "cell_type": "markdown",
      "source": [
        "### **Query:** Identify the artist with the highest revenue, excluding compilations, and display their top-selling track. (Hard)\n",
        "Langhcain implemetation fails, funcion calling wins."
      ],
      "metadata": {
        "id": "TcSXck7Bmafc"
      }
    },
    {
      "cell_type": "code",
      "source": [
        "query = \"Identify the artist with the highest revenue, excluding compilations, and display their top-selling track.\""
      ],
      "metadata": {
        "id": "9A8O0w7TmXLP"
      },
      "execution_count": null,
      "outputs": []
    },
    {
      "cell_type": "code",
      "source": [
        "print(\"Response: \", db_chain.run(query))"
      ],
      "metadata": {
        "colab": {
          "base_uri": "https://localhost:8080/",
          "height": 867
        },
        "id": "C7Ha0WvtmdTk",
        "outputId": "e537a6e4-fdc6-4c60-c258-8c8b11884cbd"
      },
      "execution_count": null,
      "outputs": [
        {
          "output_type": "stream",
          "name": "stdout",
          "text": [
            "\n",
            "\n",
            "\u001b[1m> Entering new  chain...\u001b[0m\n",
            "Identify the artist with the highest revenue, excluding compilations, and display their top-selling track.\n",
            "SQLQuery:\u001b[32;1m\u001b[1;3mSELECT artists.Name, tracks.Name, SUM(invoice_items.Quantity * invoice_items.UnitPrice) AS revenue\n",
            "FROM tracks\n",
            "JOIN albums ON tracks.AlbumId = albums.AlbumId\n",
            "JOIN artists ON albums.ArtistId = artists.ArtistId\n",
            "JOIN invoice_items ON tracks.TrackId = invoice_items.TrackId\n",
            "JOIN invoices ON invoice_items.InvoiceId = invoices.InvoiceId\n",
            "WHERE genres.Name != \"Compilation\"\n",
            "GROUP BY artists.ArtistId\n",
            "ORDER BY revenue DESC\n",
            "LIMIT 1;\u001b[0m"
          ]
        },
        {
          "output_type": "error",
          "ename": "OperationalError",
          "evalue": "ignored",
          "traceback": [
            "\u001b[0;31m---------------------------------------------------------------------------\u001b[0m",
            "\u001b[0;31mOperationalError\u001b[0m                          Traceback (most recent call last)",
            "\u001b[0;32m/usr/local/lib/python3.10/dist-packages/sqlalchemy/engine/base.py\u001b[0m in \u001b[0;36m_exec_single_context\u001b[0;34m(self, dialect, context, statement, parameters)\u001b[0m\n\u001b[1;32m   1962\u001b[0m                 \u001b[0;32mif\u001b[0m \u001b[0;32mnot\u001b[0m \u001b[0mevt_handled\u001b[0m\u001b[0;34m:\u001b[0m\u001b[0;34m\u001b[0m\u001b[0;34m\u001b[0m\u001b[0m\n\u001b[0;32m-> 1963\u001b[0;31m                     self.dialect.do_execute(\n\u001b[0m\u001b[1;32m   1964\u001b[0m                         \u001b[0mcursor\u001b[0m\u001b[0;34m,\u001b[0m \u001b[0mstr_statement\u001b[0m\u001b[0;34m,\u001b[0m \u001b[0meffective_parameters\u001b[0m\u001b[0;34m,\u001b[0m \u001b[0mcontext\u001b[0m\u001b[0;34m\u001b[0m\u001b[0;34m\u001b[0m\u001b[0m\n",
            "\u001b[0;32m/usr/local/lib/python3.10/dist-packages/sqlalchemy/engine/default.py\u001b[0m in \u001b[0;36mdo_execute\u001b[0;34m(self, cursor, statement, parameters, context)\u001b[0m\n\u001b[1;32m    917\u001b[0m     \u001b[0;32mdef\u001b[0m \u001b[0mdo_execute\u001b[0m\u001b[0;34m(\u001b[0m\u001b[0mself\u001b[0m\u001b[0;34m,\u001b[0m \u001b[0mcursor\u001b[0m\u001b[0;34m,\u001b[0m \u001b[0mstatement\u001b[0m\u001b[0;34m,\u001b[0m \u001b[0mparameters\u001b[0m\u001b[0;34m,\u001b[0m \u001b[0mcontext\u001b[0m\u001b[0;34m=\u001b[0m\u001b[0;32mNone\u001b[0m\u001b[0;34m)\u001b[0m\u001b[0;34m:\u001b[0m\u001b[0;34m\u001b[0m\u001b[0;34m\u001b[0m\u001b[0m\n\u001b[0;32m--> 918\u001b[0;31m         \u001b[0mcursor\u001b[0m\u001b[0;34m.\u001b[0m\u001b[0mexecute\u001b[0m\u001b[0;34m(\u001b[0m\u001b[0mstatement\u001b[0m\u001b[0;34m,\u001b[0m \u001b[0mparameters\u001b[0m\u001b[0;34m)\u001b[0m\u001b[0;34m\u001b[0m\u001b[0;34m\u001b[0m\u001b[0m\n\u001b[0m\u001b[1;32m    919\u001b[0m \u001b[0;34m\u001b[0m\u001b[0m\n",
            "\u001b[0;31mOperationalError\u001b[0m: no such column: genres.Name",
            "\nThe above exception was the direct cause of the following exception:\n",
            "\u001b[0;31mOperationalError\u001b[0m                          Traceback (most recent call last)",
            "\u001b[0;32m<ipython-input-187-4ab6ff06c9d1>\u001b[0m in \u001b[0;36m<cell line: 1>\u001b[0;34m()\u001b[0m\n\u001b[0;32m----> 1\u001b[0;31m \u001b[0mprint\u001b[0m\u001b[0;34m(\u001b[0m\u001b[0;34m\"Response: \"\u001b[0m\u001b[0;34m,\u001b[0m \u001b[0mdb_chain\u001b[0m\u001b[0;34m.\u001b[0m\u001b[0mrun\u001b[0m\u001b[0;34m(\u001b[0m\u001b[0mquery\u001b[0m\u001b[0;34m)\u001b[0m\u001b[0;34m)\u001b[0m\u001b[0;34m\u001b[0m\u001b[0;34m\u001b[0m\u001b[0m\n\u001b[0m",
            "\u001b[0;32m/usr/local/lib/python3.10/dist-packages/langchain/chains/base.py\u001b[0m in \u001b[0;36mrun\u001b[0;34m(self, callbacks, tags, *args, **kwargs)\u001b[0m\n\u001b[1;32m    265\u001b[0m             \u001b[0;32mif\u001b[0m \u001b[0mlen\u001b[0m\u001b[0;34m(\u001b[0m\u001b[0margs\u001b[0m\u001b[0;34m)\u001b[0m \u001b[0;34m!=\u001b[0m \u001b[0;36m1\u001b[0m\u001b[0;34m:\u001b[0m\u001b[0;34m\u001b[0m\u001b[0;34m\u001b[0m\u001b[0m\n\u001b[1;32m    266\u001b[0m                 \u001b[0;32mraise\u001b[0m \u001b[0mValueError\u001b[0m\u001b[0;34m(\u001b[0m\u001b[0;34m\"`run` supports only one positional argument.\"\u001b[0m\u001b[0;34m)\u001b[0m\u001b[0;34m\u001b[0m\u001b[0;34m\u001b[0m\u001b[0m\n\u001b[0;32m--> 267\u001b[0;31m             \u001b[0;32mreturn\u001b[0m \u001b[0mself\u001b[0m\u001b[0;34m(\u001b[0m\u001b[0margs\u001b[0m\u001b[0;34m[\u001b[0m\u001b[0;36m0\u001b[0m\u001b[0;34m]\u001b[0m\u001b[0;34m,\u001b[0m \u001b[0mcallbacks\u001b[0m\u001b[0;34m=\u001b[0m\u001b[0mcallbacks\u001b[0m\u001b[0;34m,\u001b[0m \u001b[0mtags\u001b[0m\u001b[0;34m=\u001b[0m\u001b[0mtags\u001b[0m\u001b[0;34m)\u001b[0m\u001b[0;34m[\u001b[0m\u001b[0mself\u001b[0m\u001b[0;34m.\u001b[0m\u001b[0moutput_keys\u001b[0m\u001b[0;34m[\u001b[0m\u001b[0;36m0\u001b[0m\u001b[0;34m]\u001b[0m\u001b[0;34m]\u001b[0m\u001b[0;34m\u001b[0m\u001b[0;34m\u001b[0m\u001b[0m\n\u001b[0m\u001b[1;32m    268\u001b[0m \u001b[0;34m\u001b[0m\u001b[0m\n\u001b[1;32m    269\u001b[0m         \u001b[0;32mif\u001b[0m \u001b[0mkwargs\u001b[0m \u001b[0;32mand\u001b[0m \u001b[0;32mnot\u001b[0m \u001b[0margs\u001b[0m\u001b[0;34m:\u001b[0m\u001b[0;34m\u001b[0m\u001b[0;34m\u001b[0m\u001b[0m\n",
            "\u001b[0;32m/usr/local/lib/python3.10/dist-packages/langchain/chains/base.py\u001b[0m in \u001b[0;36m__call__\u001b[0;34m(self, inputs, return_only_outputs, callbacks, tags, include_run_info)\u001b[0m\n\u001b[1;32m    147\u001b[0m         \u001b[0;32mexcept\u001b[0m \u001b[0;34m(\u001b[0m\u001b[0mKeyboardInterrupt\u001b[0m\u001b[0;34m,\u001b[0m \u001b[0mException\u001b[0m\u001b[0;34m)\u001b[0m \u001b[0;32mas\u001b[0m \u001b[0me\u001b[0m\u001b[0;34m:\u001b[0m\u001b[0;34m\u001b[0m\u001b[0;34m\u001b[0m\u001b[0m\n\u001b[1;32m    148\u001b[0m             \u001b[0mrun_manager\u001b[0m\u001b[0;34m.\u001b[0m\u001b[0mon_chain_error\u001b[0m\u001b[0;34m(\u001b[0m\u001b[0me\u001b[0m\u001b[0;34m)\u001b[0m\u001b[0;34m\u001b[0m\u001b[0;34m\u001b[0m\u001b[0m\n\u001b[0;32m--> 149\u001b[0;31m             \u001b[0;32mraise\u001b[0m \u001b[0me\u001b[0m\u001b[0;34m\u001b[0m\u001b[0;34m\u001b[0m\u001b[0m\n\u001b[0m\u001b[1;32m    150\u001b[0m         \u001b[0mrun_manager\u001b[0m\u001b[0;34m.\u001b[0m\u001b[0mon_chain_end\u001b[0m\u001b[0;34m(\u001b[0m\u001b[0moutputs\u001b[0m\u001b[0;34m)\u001b[0m\u001b[0;34m\u001b[0m\u001b[0;34m\u001b[0m\u001b[0m\n\u001b[1;32m    151\u001b[0m         final_outputs: Dict[str, Any] = self.prep_outputs(\n",
            "\u001b[0;32m/usr/local/lib/python3.10/dist-packages/langchain/chains/base.py\u001b[0m in \u001b[0;36m__call__\u001b[0;34m(self, inputs, return_only_outputs, callbacks, tags, include_run_info)\u001b[0m\n\u001b[1;32m    141\u001b[0m         \u001b[0;32mtry\u001b[0m\u001b[0;34m:\u001b[0m\u001b[0;34m\u001b[0m\u001b[0;34m\u001b[0m\u001b[0m\n\u001b[1;32m    142\u001b[0m             outputs = (\n\u001b[0;32m--> 143\u001b[0;31m                 \u001b[0mself\u001b[0m\u001b[0;34m.\u001b[0m\u001b[0m_call\u001b[0m\u001b[0;34m(\u001b[0m\u001b[0minputs\u001b[0m\u001b[0;34m,\u001b[0m \u001b[0mrun_manager\u001b[0m\u001b[0;34m=\u001b[0m\u001b[0mrun_manager\u001b[0m\u001b[0;34m)\u001b[0m\u001b[0;34m\u001b[0m\u001b[0;34m\u001b[0m\u001b[0m\n\u001b[0m\u001b[1;32m    144\u001b[0m                 \u001b[0;32mif\u001b[0m \u001b[0mnew_arg_supported\u001b[0m\u001b[0;34m\u001b[0m\u001b[0;34m\u001b[0m\u001b[0m\n\u001b[1;32m    145\u001b[0m                 \u001b[0;32melse\u001b[0m \u001b[0mself\u001b[0m\u001b[0;34m.\u001b[0m\u001b[0m_call\u001b[0m\u001b[0;34m(\u001b[0m\u001b[0minputs\u001b[0m\u001b[0;34m)\u001b[0m\u001b[0;34m\u001b[0m\u001b[0;34m\u001b[0m\u001b[0m\n",
            "\u001b[0;32m/usr/local/lib/python3.10/dist-packages/langchain/chains/sql_database/base.py\u001b[0m in \u001b[0;36m_call\u001b[0;34m(self, inputs, run_manager)\u001b[0m\n\u001b[1;32m    179\u001b[0m             \u001b[0;31m# improvement of few shot prompt seeds\u001b[0m\u001b[0;34m\u001b[0m\u001b[0;34m\u001b[0m\u001b[0m\n\u001b[1;32m    180\u001b[0m             \u001b[0mexc\u001b[0m\u001b[0;34m.\u001b[0m\u001b[0mintermediate_steps\u001b[0m \u001b[0;34m=\u001b[0m \u001b[0mintermediate_steps\u001b[0m  \u001b[0;31m# type: ignore\u001b[0m\u001b[0;34m\u001b[0m\u001b[0;34m\u001b[0m\u001b[0m\n\u001b[0;32m--> 181\u001b[0;31m             \u001b[0;32mraise\u001b[0m \u001b[0mexc\u001b[0m\u001b[0;34m\u001b[0m\u001b[0;34m\u001b[0m\u001b[0m\n\u001b[0m\u001b[1;32m    182\u001b[0m \u001b[0;34m\u001b[0m\u001b[0m\n\u001b[1;32m    183\u001b[0m     \u001b[0;34m@\u001b[0m\u001b[0mproperty\u001b[0m\u001b[0;34m\u001b[0m\u001b[0;34m\u001b[0m\u001b[0m\n",
            "\u001b[0;32m/usr/local/lib/python3.10/dist-packages/langchain/chains/sql_database/base.py\u001b[0m in \u001b[0;36m_call\u001b[0;34m(self, inputs, run_manager)\u001b[0m\n\u001b[1;32m    124\u001b[0m                 )  # output: sql generation (no checker)\n\u001b[1;32m    125\u001b[0m                 \u001b[0mintermediate_steps\u001b[0m\u001b[0;34m.\u001b[0m\u001b[0mappend\u001b[0m\u001b[0;34m(\u001b[0m\u001b[0;34m{\u001b[0m\u001b[0;34m\"sql_cmd\"\u001b[0m\u001b[0;34m:\u001b[0m \u001b[0msql_cmd\u001b[0m\u001b[0;34m}\u001b[0m\u001b[0;34m)\u001b[0m  \u001b[0;31m# input: sql exec\u001b[0m\u001b[0;34m\u001b[0m\u001b[0;34m\u001b[0m\u001b[0m\n\u001b[0;32m--> 126\u001b[0;31m                 \u001b[0mresult\u001b[0m \u001b[0;34m=\u001b[0m \u001b[0mself\u001b[0m\u001b[0;34m.\u001b[0m\u001b[0mdatabase\u001b[0m\u001b[0;34m.\u001b[0m\u001b[0mrun\u001b[0m\u001b[0;34m(\u001b[0m\u001b[0msql_cmd\u001b[0m\u001b[0;34m)\u001b[0m\u001b[0;34m\u001b[0m\u001b[0;34m\u001b[0m\u001b[0m\n\u001b[0m\u001b[1;32m    127\u001b[0m                 \u001b[0mintermediate_steps\u001b[0m\u001b[0;34m.\u001b[0m\u001b[0mappend\u001b[0m\u001b[0;34m(\u001b[0m\u001b[0mstr\u001b[0m\u001b[0;34m(\u001b[0m\u001b[0mresult\u001b[0m\u001b[0;34m)\u001b[0m\u001b[0;34m)\u001b[0m  \u001b[0;31m# output: sql exec\u001b[0m\u001b[0;34m\u001b[0m\u001b[0;34m\u001b[0m\u001b[0m\n\u001b[1;32m    128\u001b[0m             \u001b[0;32melse\u001b[0m\u001b[0;34m:\u001b[0m\u001b[0;34m\u001b[0m\u001b[0;34m\u001b[0m\u001b[0m\n",
            "\u001b[0;32m/usr/local/lib/python3.10/dist-packages/langchain/sql_database.py\u001b[0m in \u001b[0;36mrun\u001b[0;34m(self, command, fetch)\u001b[0m\n\u001b[1;32m    346\u001b[0m                 \u001b[0;32melse\u001b[0m\u001b[0;34m:\u001b[0m\u001b[0;34m\u001b[0m\u001b[0;34m\u001b[0m\u001b[0m\n\u001b[1;32m    347\u001b[0m                     \u001b[0mconnection\u001b[0m\u001b[0;34m.\u001b[0m\u001b[0mexec_driver_sql\u001b[0m\u001b[0;34m(\u001b[0m\u001b[0;34mf\"SET search_path TO {self._schema}\"\u001b[0m\u001b[0;34m)\u001b[0m\u001b[0;34m\u001b[0m\u001b[0;34m\u001b[0m\u001b[0m\n\u001b[0;32m--> 348\u001b[0;31m             \u001b[0mcursor\u001b[0m \u001b[0;34m=\u001b[0m \u001b[0mconnection\u001b[0m\u001b[0;34m.\u001b[0m\u001b[0mexecute\u001b[0m\u001b[0;34m(\u001b[0m\u001b[0mtext\u001b[0m\u001b[0;34m(\u001b[0m\u001b[0mcommand\u001b[0m\u001b[0;34m)\u001b[0m\u001b[0;34m)\u001b[0m\u001b[0;34m\u001b[0m\u001b[0;34m\u001b[0m\u001b[0m\n\u001b[0m\u001b[1;32m    349\u001b[0m             \u001b[0;32mif\u001b[0m \u001b[0mcursor\u001b[0m\u001b[0;34m.\u001b[0m\u001b[0mreturns_rows\u001b[0m\u001b[0;34m:\u001b[0m\u001b[0;34m\u001b[0m\u001b[0;34m\u001b[0m\u001b[0m\n\u001b[1;32m    350\u001b[0m                 \u001b[0;32mif\u001b[0m \u001b[0mfetch\u001b[0m \u001b[0;34m==\u001b[0m \u001b[0;34m\"all\"\u001b[0m\u001b[0;34m:\u001b[0m\u001b[0;34m\u001b[0m\u001b[0;34m\u001b[0m\u001b[0m\n",
            "\u001b[0;32m/usr/local/lib/python3.10/dist-packages/sqlalchemy/engine/base.py\u001b[0m in \u001b[0;36mexecute\u001b[0;34m(self, statement, parameters, execution_options)\u001b[0m\n\u001b[1;32m   1411\u001b[0m             \u001b[0;32mraise\u001b[0m \u001b[0mexc\u001b[0m\u001b[0;34m.\u001b[0m\u001b[0mObjectNotExecutableError\u001b[0m\u001b[0;34m(\u001b[0m\u001b[0mstatement\u001b[0m\u001b[0;34m)\u001b[0m \u001b[0;32mfrom\u001b[0m \u001b[0merr\u001b[0m\u001b[0;34m\u001b[0m\u001b[0;34m\u001b[0m\u001b[0m\n\u001b[1;32m   1412\u001b[0m         \u001b[0;32melse\u001b[0m\u001b[0;34m:\u001b[0m\u001b[0;34m\u001b[0m\u001b[0;34m\u001b[0m\u001b[0m\n\u001b[0;32m-> 1413\u001b[0;31m             return meth(\n\u001b[0m\u001b[1;32m   1414\u001b[0m                 \u001b[0mself\u001b[0m\u001b[0;34m,\u001b[0m\u001b[0;34m\u001b[0m\u001b[0;34m\u001b[0m\u001b[0m\n\u001b[1;32m   1415\u001b[0m                 \u001b[0mdistilled_parameters\u001b[0m\u001b[0;34m,\u001b[0m\u001b[0;34m\u001b[0m\u001b[0;34m\u001b[0m\u001b[0m\n",
            "\u001b[0;32m/usr/local/lib/python3.10/dist-packages/sqlalchemy/sql/elements.py\u001b[0m in \u001b[0;36m_execute_on_connection\u001b[0;34m(self, connection, distilled_params, execution_options)\u001b[0m\n\u001b[1;32m    481\u001b[0m             \u001b[0;32mif\u001b[0m \u001b[0mTYPE_CHECKING\u001b[0m\u001b[0;34m:\u001b[0m\u001b[0;34m\u001b[0m\u001b[0;34m\u001b[0m\u001b[0m\n\u001b[1;32m    482\u001b[0m                 \u001b[0;32massert\u001b[0m \u001b[0misinstance\u001b[0m\u001b[0;34m(\u001b[0m\u001b[0mself\u001b[0m\u001b[0;34m,\u001b[0m \u001b[0mExecutable\u001b[0m\u001b[0;34m)\u001b[0m\u001b[0;34m\u001b[0m\u001b[0;34m\u001b[0m\u001b[0m\n\u001b[0;32m--> 483\u001b[0;31m             return connection._execute_clauseelement(\n\u001b[0m\u001b[1;32m    484\u001b[0m                 \u001b[0mself\u001b[0m\u001b[0;34m,\u001b[0m \u001b[0mdistilled_params\u001b[0m\u001b[0;34m,\u001b[0m \u001b[0mexecution_options\u001b[0m\u001b[0;34m\u001b[0m\u001b[0;34m\u001b[0m\u001b[0m\n\u001b[1;32m    485\u001b[0m             )\n",
            "\u001b[0;32m/usr/local/lib/python3.10/dist-packages/sqlalchemy/engine/base.py\u001b[0m in \u001b[0;36m_execute_clauseelement\u001b[0;34m(self, elem, distilled_parameters, execution_options)\u001b[0m\n\u001b[1;32m   1635\u001b[0m             \u001b[0mlinting\u001b[0m\u001b[0;34m=\u001b[0m\u001b[0mself\u001b[0m\u001b[0;34m.\u001b[0m\u001b[0mdialect\u001b[0m\u001b[0;34m.\u001b[0m\u001b[0mcompiler_linting\u001b[0m \u001b[0;34m|\u001b[0m \u001b[0mcompiler\u001b[0m\u001b[0;34m.\u001b[0m\u001b[0mWARN_LINTING\u001b[0m\u001b[0;34m,\u001b[0m\u001b[0;34m\u001b[0m\u001b[0;34m\u001b[0m\u001b[0m\n\u001b[1;32m   1636\u001b[0m         )\n\u001b[0;32m-> 1637\u001b[0;31m         ret = self._execute_context(\n\u001b[0m\u001b[1;32m   1638\u001b[0m             \u001b[0mdialect\u001b[0m\u001b[0;34m,\u001b[0m\u001b[0;34m\u001b[0m\u001b[0;34m\u001b[0m\u001b[0m\n\u001b[1;32m   1639\u001b[0m             \u001b[0mdialect\u001b[0m\u001b[0;34m.\u001b[0m\u001b[0mexecution_ctx_cls\u001b[0m\u001b[0;34m.\u001b[0m\u001b[0m_init_compiled\u001b[0m\u001b[0;34m,\u001b[0m\u001b[0;34m\u001b[0m\u001b[0;34m\u001b[0m\u001b[0m\n",
            "\u001b[0;32m/usr/local/lib/python3.10/dist-packages/sqlalchemy/engine/base.py\u001b[0m in \u001b[0;36m_execute_context\u001b[0;34m(self, dialect, constructor, statement, parameters, execution_options, *args, **kw)\u001b[0m\n\u001b[1;32m   1839\u001b[0m             )\n\u001b[1;32m   1840\u001b[0m         \u001b[0;32melse\u001b[0m\u001b[0;34m:\u001b[0m\u001b[0;34m\u001b[0m\u001b[0;34m\u001b[0m\u001b[0m\n\u001b[0;32m-> 1841\u001b[0;31m             return self._exec_single_context(\n\u001b[0m\u001b[1;32m   1842\u001b[0m                 \u001b[0mdialect\u001b[0m\u001b[0;34m,\u001b[0m \u001b[0mcontext\u001b[0m\u001b[0;34m,\u001b[0m \u001b[0mstatement\u001b[0m\u001b[0;34m,\u001b[0m \u001b[0mparameters\u001b[0m\u001b[0;34m\u001b[0m\u001b[0;34m\u001b[0m\u001b[0m\n\u001b[1;32m   1843\u001b[0m             )\n",
            "\u001b[0;32m/usr/local/lib/python3.10/dist-packages/sqlalchemy/engine/base.py\u001b[0m in \u001b[0;36m_exec_single_context\u001b[0;34m(self, dialect, context, statement, parameters)\u001b[0m\n\u001b[1;32m   1980\u001b[0m \u001b[0;34m\u001b[0m\u001b[0m\n\u001b[1;32m   1981\u001b[0m         \u001b[0;32mexcept\u001b[0m \u001b[0mBaseException\u001b[0m \u001b[0;32mas\u001b[0m \u001b[0me\u001b[0m\u001b[0;34m:\u001b[0m\u001b[0;34m\u001b[0m\u001b[0;34m\u001b[0m\u001b[0m\n\u001b[0;32m-> 1982\u001b[0;31m             self._handle_dbapi_exception(\n\u001b[0m\u001b[1;32m   1983\u001b[0m                 \u001b[0me\u001b[0m\u001b[0;34m,\u001b[0m \u001b[0mstr_statement\u001b[0m\u001b[0;34m,\u001b[0m \u001b[0meffective_parameters\u001b[0m\u001b[0;34m,\u001b[0m \u001b[0mcursor\u001b[0m\u001b[0;34m,\u001b[0m \u001b[0mcontext\u001b[0m\u001b[0;34m\u001b[0m\u001b[0;34m\u001b[0m\u001b[0m\n\u001b[1;32m   1984\u001b[0m             )\n",
            "\u001b[0;32m/usr/local/lib/python3.10/dist-packages/sqlalchemy/engine/base.py\u001b[0m in \u001b[0;36m_handle_dbapi_exception\u001b[0;34m(self, e, statement, parameters, cursor, context, is_sub_exec)\u001b[0m\n\u001b[1;32m   2337\u001b[0m             \u001b[0;32melif\u001b[0m \u001b[0mshould_wrap\u001b[0m\u001b[0;34m:\u001b[0m\u001b[0;34m\u001b[0m\u001b[0;34m\u001b[0m\u001b[0m\n\u001b[1;32m   2338\u001b[0m                 \u001b[0;32massert\u001b[0m \u001b[0msqlalchemy_exception\u001b[0m \u001b[0;32mis\u001b[0m \u001b[0;32mnot\u001b[0m \u001b[0;32mNone\u001b[0m\u001b[0;34m\u001b[0m\u001b[0;34m\u001b[0m\u001b[0m\n\u001b[0;32m-> 2339\u001b[0;31m                 \u001b[0;32mraise\u001b[0m \u001b[0msqlalchemy_exception\u001b[0m\u001b[0;34m.\u001b[0m\u001b[0mwith_traceback\u001b[0m\u001b[0;34m(\u001b[0m\u001b[0mexc_info\u001b[0m\u001b[0;34m[\u001b[0m\u001b[0;36m2\u001b[0m\u001b[0;34m]\u001b[0m\u001b[0;34m)\u001b[0m \u001b[0;32mfrom\u001b[0m \u001b[0me\u001b[0m\u001b[0;34m\u001b[0m\u001b[0;34m\u001b[0m\u001b[0m\n\u001b[0m\u001b[1;32m   2340\u001b[0m             \u001b[0;32melse\u001b[0m\u001b[0;34m:\u001b[0m\u001b[0;34m\u001b[0m\u001b[0;34m\u001b[0m\u001b[0m\n\u001b[1;32m   2341\u001b[0m                 \u001b[0;32massert\u001b[0m \u001b[0mexc_info\u001b[0m\u001b[0;34m[\u001b[0m\u001b[0;36m1\u001b[0m\u001b[0;34m]\u001b[0m \u001b[0;32mis\u001b[0m \u001b[0;32mnot\u001b[0m \u001b[0;32mNone\u001b[0m\u001b[0;34m\u001b[0m\u001b[0;34m\u001b[0m\u001b[0m\n",
            "\u001b[0;32m/usr/local/lib/python3.10/dist-packages/sqlalchemy/engine/base.py\u001b[0m in \u001b[0;36m_exec_single_context\u001b[0;34m(self, dialect, context, statement, parameters)\u001b[0m\n\u001b[1;32m   1961\u001b[0m                             \u001b[0;32mbreak\u001b[0m\u001b[0;34m\u001b[0m\u001b[0;34m\u001b[0m\u001b[0m\n\u001b[1;32m   1962\u001b[0m                 \u001b[0;32mif\u001b[0m \u001b[0;32mnot\u001b[0m \u001b[0mevt_handled\u001b[0m\u001b[0;34m:\u001b[0m\u001b[0;34m\u001b[0m\u001b[0;34m\u001b[0m\u001b[0m\n\u001b[0;32m-> 1963\u001b[0;31m                     self.dialect.do_execute(\n\u001b[0m\u001b[1;32m   1964\u001b[0m                         \u001b[0mcursor\u001b[0m\u001b[0;34m,\u001b[0m \u001b[0mstr_statement\u001b[0m\u001b[0;34m,\u001b[0m \u001b[0meffective_parameters\u001b[0m\u001b[0;34m,\u001b[0m \u001b[0mcontext\u001b[0m\u001b[0;34m\u001b[0m\u001b[0;34m\u001b[0m\u001b[0m\n\u001b[1;32m   1965\u001b[0m                     )\n",
            "\u001b[0;32m/usr/local/lib/python3.10/dist-packages/sqlalchemy/engine/default.py\u001b[0m in \u001b[0;36mdo_execute\u001b[0;34m(self, cursor, statement, parameters, context)\u001b[0m\n\u001b[1;32m    916\u001b[0m \u001b[0;34m\u001b[0m\u001b[0m\n\u001b[1;32m    917\u001b[0m     \u001b[0;32mdef\u001b[0m \u001b[0mdo_execute\u001b[0m\u001b[0;34m(\u001b[0m\u001b[0mself\u001b[0m\u001b[0;34m,\u001b[0m \u001b[0mcursor\u001b[0m\u001b[0;34m,\u001b[0m \u001b[0mstatement\u001b[0m\u001b[0;34m,\u001b[0m \u001b[0mparameters\u001b[0m\u001b[0;34m,\u001b[0m \u001b[0mcontext\u001b[0m\u001b[0;34m=\u001b[0m\u001b[0;32mNone\u001b[0m\u001b[0;34m)\u001b[0m\u001b[0;34m:\u001b[0m\u001b[0;34m\u001b[0m\u001b[0;34m\u001b[0m\u001b[0m\n\u001b[0;32m--> 918\u001b[0;31m         \u001b[0mcursor\u001b[0m\u001b[0;34m.\u001b[0m\u001b[0mexecute\u001b[0m\u001b[0;34m(\u001b[0m\u001b[0mstatement\u001b[0m\u001b[0;34m,\u001b[0m \u001b[0mparameters\u001b[0m\u001b[0;34m)\u001b[0m\u001b[0;34m\u001b[0m\u001b[0;34m\u001b[0m\u001b[0m\n\u001b[0m\u001b[1;32m    919\u001b[0m \u001b[0;34m\u001b[0m\u001b[0m\n\u001b[1;32m    920\u001b[0m     \u001b[0;32mdef\u001b[0m \u001b[0mdo_execute_no_params\u001b[0m\u001b[0;34m(\u001b[0m\u001b[0mself\u001b[0m\u001b[0;34m,\u001b[0m \u001b[0mcursor\u001b[0m\u001b[0;34m,\u001b[0m \u001b[0mstatement\u001b[0m\u001b[0;34m,\u001b[0m \u001b[0mcontext\u001b[0m\u001b[0;34m=\u001b[0m\u001b[0;32mNone\u001b[0m\u001b[0;34m)\u001b[0m\u001b[0;34m:\u001b[0m\u001b[0;34m\u001b[0m\u001b[0;34m\u001b[0m\u001b[0m\n",
            "\u001b[0;31mOperationalError\u001b[0m: (sqlite3.OperationalError) no such column: genres.Name\n[SQL: SELECT artists.Name, tracks.Name, SUM(invoice_items.Quantity * invoice_items.UnitPrice) AS revenue\nFROM tracks\nJOIN albums ON tracks.AlbumId = albums.AlbumId\nJOIN artists ON albums.ArtistId = artists.ArtistId\nJOIN invoice_items ON tracks.TrackId = invoice_items.TrackId\nJOIN invoices ON invoice_items.InvoiceId = invoices.InvoiceId\nWHERE genres.Name != \"Compilation\"\nGROUP BY artists.ArtistId\nORDER BY revenue DESC\nLIMIT 1;]\n(Background on this error at: https://sqlalche.me/e/20/e3q8)"
          ]
        }
      ]
    },
    {
      "cell_type": "code",
      "source": [
        "print(\"Response: \", openai_functions_chain(query))"
      ],
      "metadata": {
        "colab": {
          "base_uri": "https://localhost:8080/"
        },
        "id": "H3d6B6vxmfcd",
        "outputId": "f82ad1cd-80e5-48f2-b1df-9ace3d1f7a7d"
      },
      "execution_count": null,
      "outputs": [
        {
          "output_type": "stream",
          "name": "stdout",
          "text": [
            "Executing function:  {\n",
            "  \"name\": \"ask_database\",\n",
            "  \"arguments\": \"{\\n  \\\"query\\\": \\\"WITH customer_spending AS (SELECT c.CustomerId, g.Name AS Genre, SUM(i.Total) AS TotalSpending FROM customers c JOIN invoices i ON c.CustomerId = i.CustomerId JOIN invoice_items ii ON i.InvoiceId = ii.InvoiceId JOIN tracks t ON ii.TrackId = t.TrackId JOIN genres g ON t.GenreId = g.GenreId GROUP BY c.CustomerId, g.Name) SELECT cs.CustomerId, c.FirstName || ' ' || c.LastName AS CustomerName, cs.Genre, cs.TotalSpending FROM customer_spending cs JOIN customers c ON cs.CustomerId = c.CustomerId WHERE cs.TotalSpending = (SELECT MAX(TotalSpending) FROM customer_spending WHERE Genre = cs.Genre) ORDER BY cs.Genre\\\"\\n}\"\n",
            "}\n",
            "Response:  The query results in the following output:\n",
            "\n",
            "| CustomerId | CustomerName       | Genre              | TotalSpending |\n",
            "|------------|--------------------|--------------------|---------------|\n",
            "| 24         | Frank Ralston      | Alternative        | 79.3          |\n",
            "| 8          | Daan Peeters       | Alternative & Punk | 119.79        |\n",
            "| 2          | Leonie Köhler      | Blues              | 47.52         |\n",
            "| 20         | Dan Miller         | Bossa Nova         | 27.72         |\n",
            "| 4          | Bjørn Hansen       | Classical          | 79.3          |\n",
            "| 24         | Frank Ralston      | Comedy             | 47.7          |\n",
            "| 26         | Richard Cunningham | Drama              | 143.16        |\n",
            "| 17         | Jack Smith         | Easy Listening     | 41.58         |\n",
            "| 57         | Luis Rojas         | Easy Listening     | 41.58         |\n",
            "| 43         | Isabelle Mercier   | Electronica/Dance  | 33.72         |\n",
            "| 16         | Frank Harris       | Heavy Metal        | 41.58         |\n",
            "| 36         | Hannah Schneider   | Heavy Metal        | 41.58         |\n",
            "| 55         | Mark Taylor        | Heavy Metal        | 41.58         |\n",
            "| 43         | Isabelle Mercier   | Hip Hop/Rap        | 33.72         |\n",
            "| 40         | Dominique Lefebvre | Jazz               | 83.16         |\n",
            "| 52         | Emma Jones         | Latin              | 175.23        |\n",
            "| 42         | Wyatt Girard       | Metal              | 149.49        |\n",
            "| 34         | João Fernandes     | Pop                | 43.64         |\n",
            "| 45         | Ladislav Kovács    | R&B/Soul           | 44.55         |\n",
            "| 21         | Kathy Chase        | Reggae             | 55.44         |\n",
            "| 10         | Eduardo Martins    | Rock               | 244.53        |\n",
            "| 3          | François Tremblay  | Rock And Roll      | 27.72         |\n",
            "| 22         | Heather Leacock    | Rock And Roll      | 27.72         |\n",
            "| 28         | Julia Barnett      | Sci Fi & Fantasy   | 47.76         |\n",
            "| 57         | Luis Rojas         | Science Fiction    | 35.82         |\n",
            "| 41         | Marc Dubois        | Soundtrack         | 54.45         |\n",
            "| 6          | Helena Holý        | TV Shows           | 155.16        |\n",
            "| 12         | Roberto Almeida    | World              | 27.72         |\n",
            "| 15         | Jennifer Peterson  | World              | 27.72         |\n",
            "| 31         | Martha Silk        | World              | 27.72         |\n",
            "| 34         | João Fernandes     | World              | 27.72         |\n",
            "\n",
            "The query retrieves the customer who has spent the most in each genre. The results are ordered by genre.\n"
          ]
        }
      ]
    },
    {
      "cell_type": "markdown",
      "source": [
        "# Test yourself"
      ],
      "metadata": {
        "id": "Tk8Os9QBQkhO"
      }
    },
    {
      "cell_type": "code",
      "source": [
        "query = \"Identify the most popular genre among customers based on the number of tracks sold in that genre.\" #@param {type:\"string\"}"
      ],
      "metadata": {
        "id": "DBmiOKmvQloo"
      },
      "execution_count": null,
      "outputs": []
    },
    {
      "cell_type": "code",
      "source": [
        "print(\"Response: \", db_chain.run(query))"
      ],
      "metadata": {
        "id": "zUJQsrtKQnfL"
      },
      "execution_count": null,
      "outputs": []
    },
    {
      "cell_type": "code",
      "source": [
        "print(\"Response: \", openai_functions_chain(query))"
      ],
      "metadata": {
        "id": "Ycr_njCbQnEG"
      },
      "execution_count": null,
      "outputs": []
    }
  ]
}